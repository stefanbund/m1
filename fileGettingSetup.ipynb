{
 "cells": [
  {
   "attachments": {},
   "cell_type": "markdown",
   "metadata": {},
   "source": [
    "## code playground: \n",
    "look here for example code"
   ]
  },
  {
   "cell_type": "code",
   "execution_count": 38,
   "metadata": {},
   "outputs": [],
   "source": [
    "import pandas as pd\n",
    "import matplotlib.pyplot as plt\n",
    "import datetime\n"
   ]
  },
  {
   "cell_type": "code",
   "execution_count": 39,
   "metadata": {},
   "outputs": [],
   "source": [
    "#convert the us indicator date to the filename type, using\n",
    "#https://pynative.com/python-datetime-format-strftime/#:~:text=Below%20are%20the%20character%20codes%20to%20format%20the,of%20the%20weekday.%20Like%2C%20Monday%2C%20Tuesday%20More%20items\n",
    "def convertxy():\n",
    "    from dateutil import parser\n",
    "    dt = parser.parse(\"Dec 21 2020  1:01PM\")\n",
    "    print(dt)"
   ]
  },
  {
   "cell_type": "code",
   "execution_count": 40,
   "metadata": {},
   "outputs": [],
   "source": [
    "#take string, Wednesday, August 17, 2022\n",
    "#strip first three characters from first word to match file name by day\n",
    "#strip first three characters from second word, to arrive at comparable"
   ]
  },
  {
   "cell_type": "code",
   "execution_count": 41,
   "metadata": {},
   "outputs": [
    {
     "name": "stdout",
     "output_type": "stream",
     "text": [
      "2020-12-21 13:01:00\n",
      "None\n"
     ]
    }
   ],
   "source": [
    "print(convertxy())"
   ]
  },
  {
   "attachments": {},
   "cell_type": "markdown",
   "metadata": {},
   "source": [
    "how to access the limit order book files:"
   ]
  },
  {
   "cell_type": "code",
   "execution_count": 42,
   "metadata": {},
   "outputs": [
    {
     "data": {
      "text/plain": [
       "mp           float64\n",
       "timeStamp      int64\n",
       "mean         float64\n",
       "skew         float64\n",
       "dtype: object"
      ]
     },
     "execution_count": 42,
     "metadata": {},
     "output_type": "execute_result"
    }
   ],
   "source": [
    "# Thu Aug 11 2022 05:39:53 GMT-0700 (Pacific Daylight Time)-MEANSHIFT.csv\n",
    "x = pd.read_csv(\"lob_caps/Sat Sep 24 2022 11:10:07 GMT-0700 (Pacific Daylight Time)-MEANSHIFT.csv\")\n",
    "x.dtypes\n"
   ]
  },
  {
   "cell_type": "code",
   "execution_count": 43,
   "metadata": {},
   "outputs": [],
   "source": [
    "def getIndicators():\n",
    "    return pd.read_csv(\"usIndicatorsFall22-fulls.csv\")"
   ]
  },
  {
   "cell_type": "code",
   "execution_count": 63,
   "metadata": {},
   "outputs": [
    {
     "name": "stdout",
     "output_type": "stream",
     "text": [
      "                             date      time                         indicator  \\\n",
      "0          Monday, August 1, 2022   6:00 AM             ISM Manufacturing PMI   \n",
      "1         Tuesday, August 2, 2022   6:00 AM                JOLTS Job Openings   \n",
      "2       Wednesday, August 3, 2022   6:00 AM         ISM Non Manufacturing PMI   \n",
      "3        Thursday, August 4, 2022   4:30 AM                  Balance of Trade   \n",
      "4          Friday, August 5, 2022   4:30 AM                 Non Farm Payrolls   \n",
      "5      Wednesday, August 10, 2022   4:30 AM               Core Inflation Rate   \n",
      "6      Wednesday, August 10, 2022   4:30 AM                Inflation Rate YoY   \n",
      "7       Thursday, August 11, 2022   4:30 AM                           PPI MoM   \n",
      "8         Friday, August 12, 2022   6:00 AM  Michigan Consumer Sentiment Pref   \n",
      "9        Tuesday, August 16, 2022   4:30 AM                 Buildling Permits   \n",
      "10     Wednesday, August 17, 2022   4:30 AM                  retail sales mom   \n",
      "11     Wednesday, August 17, 2022  10:00 AM                      fomc minutes   \n",
      "12     Wednesday, August 24, 2022   4:30 AM          durable goods orders mom   \n",
      "13        Friday, August 26, 2022   4:30 AM               personal income mom   \n",
      "14        Friday, August 26, 2022   4:30 AM             personal spending mom   \n",
      "15        Friday, August 26, 2022   6:00 AM           fed chair powell speech   \n",
      "16       Tuesday, August 30, 2022   6:00 AM                jolts job openings   \n",
      "17    Thursday, September 1, 2022   6:00 AM             ism manufacturing pmi   \n",
      "18      Friday, September 2, 2022   4:30 AM                 non farm payrolls   \n",
      "19     Tuesday, September 6, 2022   6:00 AM         ism non manufacturing pmi   \n",
      "20   Wednesday, September 7, 2022   4:30 AM                  balance of trade   \n",
      "21  Wednesday, September 14, 2022   4:30 AM                           ppi mom   \n",
      "22   Thursday, September 15, 2022   4:30 AM                  retail sales mom   \n",
      "23     Friday, September 16, 2022   6:00 AM  Michigan Consumer Sentiment Pref   \n",
      "24    Tuesday, September 20, 2022   4:30 AM                  building permits   \n",
      "25  Wednesday, September 21, 2022  10:00 AM         fomc economic projections   \n",
      "26  Wednesday, September 21, 2022  10:00 AM              fed press conference   \n",
      "27    Tuesday, September 27, 2022   4:30 AM          durable goods orders mom   \n",
      "28     Friday, September 30, 2022   4:30 AM             personal spending mom   \n",
      "29     Friday, September 30, 2022   4:30 AM               personal income mom   \n",
      "30        Monday, October 3, 2022   6:00 AM             ism manufacturing pmi   \n",
      "31       Tuesday, October 4, 2022   6:00 AM                jolts job openings   \n",
      "32     Wednesday, October 5, 2022   4:30 AM                  balance of trade   \n",
      "33     Wednesday, October 5, 2022   6:00 AM         ism non manufacturing pmi   \n",
      "34        Friday, October 7, 2022   4:30 AM                 non farm payrolls   \n",
      "35    Wednesday, October 12, 2022   4:30 AM                           ppi mom   \n",
      "36    Wednesday, October 12, 2022  10:00 AM                      fomc minutes   \n",
      "37     Thursday, October 13, 2022   4:30 AM                inflation rate yoy   \n",
      "38     Thursday, October 13, 2022   4:30 AM           core inflation rate yoy   \n",
      "39       Friday, October 14, 2022   4:30 AM                  retail sales mom   \n",
      "40       Friday, October 14, 2022   6:00 AM  michigan consumer sentiment pref   \n",
      "41    Wednesday, October 19, 2022   4:30 AM                 buildling permits   \n",
      "42     Thursday, October 27, 2022   4:30 AM          durable goods orders mom   \n",
      "43       Friday, October 28, 2022   4:30 AM               personal income mom   \n",
      "44       Friday, October 28, 2022   4:30 AM             personal spending mom   \n",
      "45      Tuesday, November 1, 2022   6:00 AM             ism manufacturing pmi   \n",
      "46      Tuesday, November 1, 2022   6:00 AM                jolts job openings   \n",
      "47    Wednesday, November 2, 2022     10:30              fed press conference   \n",
      "48     Thursday, November 3, 2022   4:30 AM                  balance of trade   \n",
      "49       Friday, November 4, 2022   4:30 AM                 Non Farm Payrolls   \n",
      "50    Thursday, November 10, 2022   5:30 AM                inflation rate yoy   \n",
      "51    Thursday, November 10, 2022   5:30 AM           core inflation rate yoy   \n",
      "52      Friday, November 11, 2022   7:00 AM  michigan consumer sentiment pref   \n",
      "\n",
      "     actual  previous  consensus  forecast  \n",
      "0    52.800    53.000     52.000    52.200  \n",
      "1    10.698    11.303     11.000    11.000  \n",
      "2    56.700    55.300     53.500    52.500  \n",
      "3   -79.600   -84.900    -80.100   -83.000  \n",
      "4   528.000   398.000    250.000   290.000  \n",
      "5     5.900     5.900      6.100     5.900  \n",
      "6     8.500     9.100      8.700     9.100  \n",
      "7    -0.500     1.000      0.200     0.400  \n",
      "8    55.100    51.500     52.500    51.300  \n",
      "9     1.674     1.696      1.650     1.670  \n",
      "10    0.000     0.800      0.100     0.200  \n",
      "11      NaN       NaN        NaN       NaN  \n",
      "12    0.000     2.200      0.600     0.800  \n",
      "13    0.200     0.700      0.600     0.500  \n",
      "14    0.100     1.000      0.400     0.200  \n",
      "15      NaN       NaN        NaN       NaN  \n",
      "16   11.230    11.040     10.450    10.500  \n",
      "17   52.800    52.800     52.000    52.000  \n",
      "18  315.000   526.000    300.000   310.000  \n",
      "19   56.900    56.700     55.100    55.000  \n",
      "20  -70.700   -80.900    -70.300   -70.000  \n",
      "21   -0.100    -0.400     -0.100     0.100  \n",
      "22    0.300    -0.400      0.000     0.100  \n",
      "23   59.500    58.200     60.000    58.600  \n",
      "24    1.517     1.685      1.610     1.630  \n",
      "25      NaN       NaN        NaN       NaN  \n",
      "26      NaN       NaN        NaN       NaN  \n",
      "27   -0.200    -0.100     -0.400    -0.900  \n",
      "28    0.400    -0.200      0.200     0.200  \n",
      "29    0.300     0.300      0.300     0.200  \n",
      "30   50.900    52.800     52.200    52.900  \n",
      "31   10.053    11.170     10.775    11.100  \n",
      "32  -67.400   -70.500    -67.700   -68.000  \n",
      "33   56.700    56.900     56.000    56.400  \n",
      "34  263.000   315.000    250.000   290.000  \n",
      "35    0.400    -0.200      0.200     0.000  \n",
      "36      NaN       NaN        NaN       NaN  \n",
      "37    8.200     8.300      8.100     8.200  \n",
      "38    6.600     6.300      6.500     6.400  \n",
      "39    0.000     0.400      0.200     0.200  \n",
      "40   59.800    58.600     59.000    58.300  \n",
      "41    1.564     1.542      1.530     1.487  \n",
      "42    0.400     0.200      0.600     0.200  \n",
      "43    0.400     0.400      0.300     0.200  \n",
      "44    0.600     0.600      0.400     0.300  \n",
      "45   50.200    50.900     50.000    50.100  \n",
      "46   10.717    10.280     10.000    10.200  \n",
      "47      NaN       NaN        NaN       NaN  \n",
      "48  -73.300   -65.700    -72.200   -72.000  \n",
      "49  261.000   315.000    200.000   240.000  \n",
      "50    7.700     8.200      8.000     8.100  \n",
      "51    6.300     6.600      6.500     6.700  \n",
      "52   54.700    56.900     59.500    59.300  \n"
     ]
    }
   ],
   "source": [
    "print(getIndicators())"
   ]
  },
  {
   "cell_type": "code",
   "execution_count": null,
   "metadata": {},
   "outputs": [],
   "source": []
  },
  {
   "cell_type": "code",
   "execution_count": 64,
   "metadata": {},
   "outputs": [
    {
     "data": {
      "text/plain": [
       "date    object\n",
       "time    object\n",
       "dtype: object"
      ]
     },
     "execution_count": 64,
     "metadata": {},
     "output_type": "execute_result"
    }
   ],
   "source": [
    "ind = pd.read_csv(\"usIndicatorsFall22-fulls.csv\")\n",
    "t = ['date', 'time']\n",
    "ind[t].dtypes"
   ]
  },
  {
   "cell_type": "code",
   "execution_count": 65,
   "metadata": {},
   "outputs": [
    {
     "data": {
      "text/plain": [
       "array(['ism manufacturing pmi', 'jolts job openings',\n",
       "       'ism non manufacturing pmi', 'balance of trade',\n",
       "       'non farm payrolls', 'core inflation rate', 'inflation rate yoy',\n",
       "       'ppi mom', 'michigan consumer sentiment pref', 'building permits',\n",
       "       'retail sales mom', 'fomc minutes', 'durable goods orders mom',\n",
       "       'personal income mom', 'personal spending mom',\n",
       "       'fed chair powell speech', 'fomc economic projections',\n",
       "       'fed press conference', 'core inflation rate yoy',\n",
       "       'buildling permits', 'Non Farm Payrolls'], dtype=object)"
      ]
     },
     "execution_count": 65,
     "metadata": {},
     "output_type": "execute_result"
    }
   ],
   "source": [
    "ind['indicator'].unique()"
   ]
  },
  {
   "attachments": {},
   "cell_type": "markdown",
   "metadata": {},
   "source": [
    "gather all data files per announcement"
   ]
  },
  {
   "cell_type": "code",
   "execution_count": 47,
   "metadata": {},
   "outputs": [],
   "source": [
    "# def loadCSV(type, fileName):\n",
    "#     if type == \"caps\":\n",
    "#         sl = \"./lob_caps/\"\n",
    "#         loc= sl+ fileName #+ \"-CAPS.csv\"\n",
    "#     df = pd.read_csv(loc)\n",
    "#     return df"
   ]
  },
  {
   "attachments": {},
   "cell_type": "markdown",
   "metadata": {},
   "source": [
    "get limit order book for a date string"
   ]
  },
  {
   "cell_type": "code",
   "execution_count": 48,
   "metadata": {},
   "outputs": [],
   "source": [
    "def getlob(csv):\n",
    "    # print(\"GL: csv named \",csv)\n",
    "    csv = \"lob_caps/\" + csv\n",
    "    df = pd.read_csv(csv)\n",
    "    # print(\"\\tfor \", type, df.columns)\n",
    "    return df"
   ]
  },
  {
   "attachments": {},
   "cell_type": "markdown",
   "metadata": {},
   "source": [
    "get files for indicator entry, data frame returned"
   ]
  },
  {
   "cell_type": "code",
   "execution_count": 75,
   "metadata": {},
   "outputs": [],
   "source": [
    "import os\n",
    "\n",
    "def getCAPSByDateAndType(date, type, edt ):  #returns a dict, date + df caps for that date, then extended date and time\n",
    "    # print(\"for type, \", type)\n",
    "    for root, dirs, files in os.walk(\".\"):\n",
    "        for filename in files:\n",
    "            if date in filename :\n",
    "                if type in filename:\n",
    "                    # print(\"GFBDT: match \", date, \" : \", filename)\n",
    "                    # print(\"returning, \", filename )\n",
    "                    obj = {\"date\":date, \"df\":getlob(filename), \"time\":edt}\n",
    "                    return obj\n",
    "    "
   ]
  },
  {
   "attachments": {},
   "cell_type": "markdown",
   "metadata": {},
   "source": [
    "primary study, study entry point. Iterates indicator file, returns data frame per indicator announcement, based on the type of data you wish. "
   ]
  },
  {
   "cell_type": "code",
   "execution_count": 78,
   "metadata": {},
   "outputs": [],
   "source": [
    "def iterateByType(type):\n",
    "    # print(\"for type, \", type)\n",
    "    data = getIndicators() #indicators file read\n",
    "    result = []\n",
    "    for row, val in data.iterrows():\n",
    "        s1 = val['date'].replace(','  , '')\n",
    "        ss = s1.split(\" \")\n",
    "        day  = ss[0][0:3]\n",
    "        mon = ss[1][0:3]\n",
    "        num = ss[2]\n",
    "        hr = val['time']\n",
    "        if int(num) <10:\n",
    "            num = \"0\"+num\n",
    "        yr = ss[3]\n",
    "        l = day + \" \" + mon + \" \" + num #+ \" \" + hr\n",
    "        extendedDateTime = day + \" \" + mon + \" \" + num + \" \" + hr\n",
    "        # print(\"IBT: \",l)\n",
    "        result.append(getCAPSByDateAndType(l, type, extendedDateTime)) #returns df/caps and the date associated    \n",
    "    return result"
   ]
  },
  {
   "attachments": {},
   "cell_type": "markdown",
   "metadata": {},
   "source": [
    "#### study one: how does the announcement impact the accumulation of the commodity?\n",
    "separate one data frame into two, based on announcement time"
   ]
  },
  {
   "cell_type": "code",
   "execution_count": 71,
   "metadata": {},
   "outputs": [],
   "source": [
    "def studyCorrelations(cArr):\n",
    "    print(len(cArr))\n",
    "\n",
    "    for i in range(len(cArr)):\n",
    "        print(cArr[i][\"date\"])\n",
    "        print(cArr[i][\"corrDf\"])"
   ]
  },
  {
   "cell_type": "code",
   "execution_count": 121,
   "metadata": {},
   "outputs": [],
   "source": [
    "def convertMo(month):\n",
    "    if month ==\"Aug\":\n",
    "        return \"08\"\n",
    "    if month == \"Sep\":\n",
    "        return \"09\"\n",
    "    if month == \"Oct\":\n",
    "        return \"10\"\n",
    "    if month == \"Nov\":\n",
    "        return \"11\""
   ]
  },
  {
   "cell_type": "code",
   "execution_count": 122,
   "metadata": {},
   "outputs": [],
   "source": [
    "def convertToEpoch(original):\n",
    "    newstring = original.split(\" \") #must format from  Thu Aug 11 4:30 AM --to-- Thu  08 11 2022 4:30 AM\n",
    "    month = convertMo(newstring[1])\n",
    "    epochTime = newstring[1] + \" \" + month + \" \" + newstring[2] + \" \" + \"2022\" + \" \" + newstring[3] + \" \" + newstring[4]\n",
    "    print(\"CTE \", original,\" ==> \", epochTime)\n",
    "    \n",
    "    return epochTime"
   ]
  },
  {
   "cell_type": "code",
   "execution_count": 126,
   "metadata": {},
   "outputs": [],
   "source": [
    "import time\n",
    "from time import gmtime, strptime\n",
    "def demarcateByAnnounceTime():\n",
    "    obj = iterateByType(\"CAPS\")\n",
    "    # print(obj)#  , obj[\"df\"])\n",
    "    corrArray = []\n",
    "    for i in range(len(obj)):\n",
    "        if obj[i] is not None:\n",
    "            # print(obj[i][\"df\"][\"mp\"].head(2))\n",
    "            # print(type(obj[i][\"df\"].corr()))\n",
    "            l = obj[i][\"df\"].corr()\n",
    "            date = obj[i][\"time\"]\n",
    "            datex = convertToEpoch(date)#.split(\" \") # turn this to epoch Mon Aug 01 6:00 AM\n",
    "            timestruct = time.strftime(datex, \"%a-%b-%d-%I-%p\")  #https://docs.python.org/2/library/time.html#time.strftime\n",
    "            # print(datetime.datetime(date).timestamp()) #Thu Aug 11 4:30 AM\n",
    "            print(time.mktime(timestruct)) #perhaps use https://stackoverflow.com/questions/13031559/how-to-change-a-struct-time-object\n",
    "            dict = {\"corrDf\": l, \"date\":date }\n",
    "            corrArray.append(dict)\n",
    "    \n",
    "    studyCorrelations(corrArray)\n",
    "        \n",
    "        \n",
    "        \n"
   ]
  },
  {
   "cell_type": "code",
   "execution_count": 127,
   "metadata": {},
   "outputs": [
    {
     "name": "stdout",
     "output_type": "stream",
     "text": [
      "CTE  Thu Aug 11 4:30 AM  ==>  Aug 08 11 2022 4:30 AM\n"
     ]
    },
    {
     "ename": "TypeError",
     "evalue": "Tuple or struct_time argument required",
     "output_type": "error",
     "traceback": [
      "\u001b[0;31m---------------------------------------------------------------------------\u001b[0m",
      "\u001b[0;31mTypeError\u001b[0m                                 Traceback (most recent call last)",
      "\u001b[1;32m/home/stefanbund/ubuntu/m1/fileGettingSetup.ipynb Cell 26\u001b[0m in \u001b[0;36m<cell line: 1>\u001b[0;34m()\u001b[0m\n\u001b[0;32m----> <a href='vscode-notebook-cell://wsl%2Bubuntu/home/stefanbund/ubuntu/m1/fileGettingSetup.ipynb#X32sdnNjb2RlLXJlbW90ZQ%3D%3D?line=0'>1</a>\u001b[0m demarcateByAnnounceTime()\n",
      "\u001b[1;32m/home/stefanbund/ubuntu/m1/fileGettingSetup.ipynb Cell 26\u001b[0m in \u001b[0;36mdemarcateByAnnounceTime\u001b[0;34m()\u001b[0m\n\u001b[1;32m     <a href='vscode-notebook-cell://wsl%2Bubuntu/home/stefanbund/ubuntu/m1/fileGettingSetup.ipynb#X32sdnNjb2RlLXJlbW90ZQ%3D%3D?line=11'>12</a>\u001b[0m date \u001b[39m=\u001b[39m obj[i][\u001b[39m\"\u001b[39m\u001b[39mtime\u001b[39m\u001b[39m\"\u001b[39m]\n\u001b[1;32m     <a href='vscode-notebook-cell://wsl%2Bubuntu/home/stefanbund/ubuntu/m1/fileGettingSetup.ipynb#X32sdnNjb2RlLXJlbW90ZQ%3D%3D?line=12'>13</a>\u001b[0m datex \u001b[39m=\u001b[39m convertToEpoch(date)\u001b[39m#.split(\" \") # turn this to epoch Mon Aug 01 6:00 AM\u001b[39;00m\n\u001b[0;32m---> <a href='vscode-notebook-cell://wsl%2Bubuntu/home/stefanbund/ubuntu/m1/fileGettingSetup.ipynb#X32sdnNjb2RlLXJlbW90ZQ%3D%3D?line=13'>14</a>\u001b[0m timestruct \u001b[39m=\u001b[39m time\u001b[39m.\u001b[39;49mstrftime(datex, \u001b[39m\"\u001b[39;49m\u001b[39m%a\u001b[39;49;00m\u001b[39m-\u001b[39;49m\u001b[39m%\u001b[39;49m\u001b[39mb-\u001b[39;49m\u001b[39m%d\u001b[39;49;00m\u001b[39m-\u001b[39;49m\u001b[39m%\u001b[39;49m\u001b[39mI-\u001b[39;49m\u001b[39m%\u001b[39;49m\u001b[39mp\u001b[39;49m\u001b[39m\"\u001b[39;49m)  \u001b[39m#https://docs.python.org/2/library/time.html#time.strftime\u001b[39;00m\n\u001b[1;32m     <a href='vscode-notebook-cell://wsl%2Bubuntu/home/stefanbund/ubuntu/m1/fileGettingSetup.ipynb#X32sdnNjb2RlLXJlbW90ZQ%3D%3D?line=14'>15</a>\u001b[0m \u001b[39m# print(datetime.datetime(date).timestamp()) #Thu Aug 11 4:30 AM\u001b[39;00m\n\u001b[1;32m     <a href='vscode-notebook-cell://wsl%2Bubuntu/home/stefanbund/ubuntu/m1/fileGettingSetup.ipynb#X32sdnNjb2RlLXJlbW90ZQ%3D%3D?line=15'>16</a>\u001b[0m \u001b[39mprint\u001b[39m(time\u001b[39m.\u001b[39mmktime(timestruct)) \u001b[39m#perhaps use https://stackoverflow.com/questions/13031559/how-to-change-a-struct-time-object\u001b[39;00m\n",
      "\u001b[0;31mTypeError\u001b[0m: Tuple or struct_time argument required"
     ]
    }
   ],
   "source": [
    "demarcateByAnnounceTime()"
   ]
  },
  {
   "attachments": {},
   "cell_type": "markdown",
   "metadata": {},
   "source": [
    "**Iterate Indicator dataframe by index**\n",
    "\n",
    "provide an index location in the indicator dataframe, and get back the indicator, with information"
   ]
  },
  {
   "attachments": {},
   "cell_type": "markdown",
   "metadata": {},
   "source": [
    "retrieve all csv data per row in indicators"
   ]
  },
  {
   "cell_type": "code",
   "execution_count": 54,
   "metadata": {},
   "outputs": [],
   "source": [
    "#read into ind df, get time of the release, use date to retrieve a file name, using ls array, find day string in that array, use result to grab a file"
   ]
  },
  {
   "attachments": {},
   "cell_type": "markdown",
   "metadata": {},
   "source": [
    "## Code Graveyard"
   ]
  },
  {
   "cell_type": "code",
   "execution_count": 55,
   "metadata": {},
   "outputs": [],
   "source": [
    "# import os\n",
    "\n",
    "# def getFilesByDateOf(d ):\n",
    "#     for root, dirs, files in os.walk(\".\"):\n",
    "#         for s1 in files:\n",
    "#             if d in s1 :\n",
    "#                 # print(\"match \", d, \" : \", s1)\n",
    "#                 m = \"MEANSHIFT\"\n",
    "#                 c = \"CAPS\"\n",
    "#                 mt = \"MATCH\"\n",
    "#                 if m in s1:\n",
    "#                     getlob(m, s1)\n",
    "#                 elif c in s1:\n",
    "#                     getlob(c, s1)\n",
    "#                 elif mt in s1:\n",
    "#                     getlob(mt, s1)\n",
    "#     return 0"
   ]
  },
  {
   "cell_type": "code",
   "execution_count": 57,
   "metadata": {},
   "outputs": [],
   "source": [
    "# # !ls lob_caps/\n",
    "# f = loadCSV(\"caps\", 'Fri Aug 12 2022 06:31:51 GMT-0700 (Pacific Daylight Time)-CAPS.csv')\n",
    "# f.head()"
   ]
  },
  {
   "cell_type": "code",
   "execution_count": null,
   "metadata": {},
   "outputs": [
    {
     "data": {
      "text/plain": [
       "date         Monday, August 1, 2022\n",
       "time                        6:00 AM\n",
       "indicator     ISM Manufacturing PMI\n",
       "actual                         52.8\n",
       "previous                       53.0\n",
       "Name: 0, dtype: object"
      ]
     },
     "execution_count": 112,
     "metadata": {},
     "output_type": "execute_result"
    }
   ],
   "source": [
    "def iterateIndforIndex(index):\n",
    "    frame = ind.loc[index]\n",
    "    \n",
    "    return frame\n",
    "\n",
    "t = iterateIndforIndex(0)\n",
    "t.head()"
   ]
  },
  {
   "attachments": {},
   "cell_type": "markdown",
   "metadata": {},
   "source": [
    "## get time between\n",
    "between start or given start, and limit, as defined by announcement time\n",
    "1. first output, from .loc[0] to time of announcement, then\n",
    "2. from announcement as .loc[0] to end of file\n",
    "\n",
    "to demonstrate the order build, then the impact of the announcement, so we use the announcement as a pillar to the study, running orders up to it, taking that corr, then studying the order profile after, as corr"
   ]
  },
  {
   "cell_type": "code",
   "execution_count": null,
   "metadata": {},
   "outputs": [],
   "source": [
    "# from https://pandas.pydata.org/pandas-docs/stable/reference/api/pandas.DataFrame.between_time.html"
   ]
  },
  {
   "cell_type": "code",
   "execution_count": null,
   "metadata": {},
   "outputs": [
    {
     "name": "stdout",
     "output_type": "stream",
     "text": [
      "Mon Aug 01   ISM Manufacturing PMI\n",
      "Tue Aug 02   JOLTS Job Openings\n",
      "Wed Aug 03   ISM Non Manufacturing PMI\n",
      "Thu Aug 04   Balance of Trade\n",
      "Fri Aug 05   Non Farm Payrolls\n",
      "Wed Aug 10   Core Inflation Rate\n",
      "Wed Aug 10   Inflation Rate YoY\n",
      "Thu Aug 11   PPI MoM\n"
     ]
    },
    {
     "ename": "TypeError",
     "evalue": "getlob() takes 1 positional argument but 2 were given",
     "output_type": "error",
     "traceback": [
      "\u001b[0;31m---------------------------------------------------------------------------\u001b[0m",
      "\u001b[0;31mTypeError\u001b[0m                                 Traceback (most recent call last)",
      "\u001b[1;32m/home/stefanbund/ubuntu/m1/fileGettingSetup.ipynb Cell 33\u001b[0m in \u001b[0;36m<cell line: 1>\u001b[0;34m()\u001b[0m\n\u001b[1;32m     <a href='vscode-notebook-cell://wsl%2Bubuntu/home/stefanbund/ubuntu/m1/fileGettingSetup.ipynb#X53sdnNjb2RlLXJlbW90ZQ%3D%3D?line=9'>10</a>\u001b[0m l \u001b[39m=\u001b[39m day \u001b[39m+\u001b[39m \u001b[39m\"\u001b[39m\u001b[39m \u001b[39m\u001b[39m\"\u001b[39m \u001b[39m+\u001b[39m mon \u001b[39m+\u001b[39m \u001b[39m\"\u001b[39m\u001b[39m \u001b[39m\u001b[39m\"\u001b[39m \u001b[39m+\u001b[39m num\n\u001b[1;32m     <a href='vscode-notebook-cell://wsl%2Bubuntu/home/stefanbund/ubuntu/m1/fileGettingSetup.ipynb#X53sdnNjb2RlLXJlbW90ZQ%3D%3D?line=10'>11</a>\u001b[0m \u001b[39mprint\u001b[39m(l, \u001b[39m\"\u001b[39m\u001b[39m \u001b[39m\u001b[39m\"\u001b[39m, val[\u001b[39m'\u001b[39m\u001b[39mindicator\u001b[39m\u001b[39m'\u001b[39m])\n\u001b[0;32m---> <a href='vscode-notebook-cell://wsl%2Bubuntu/home/stefanbund/ubuntu/m1/fileGettingSetup.ipynb#X53sdnNjb2RlLXJlbW90ZQ%3D%3D?line=11'>12</a>\u001b[0m res \u001b[39m=\u001b[39m getFilesByDateOf(l)\n",
      "\u001b[1;32m/home/stefanbund/ubuntu/m1/fileGettingSetup.ipynb Cell 33\u001b[0m in \u001b[0;36mgetFilesByDateOf\u001b[0;34m(d)\u001b[0m\n\u001b[1;32m     <a href='vscode-notebook-cell://wsl%2Bubuntu/home/stefanbund/ubuntu/m1/fileGettingSetup.ipynb#X53sdnNjb2RlLXJlbW90ZQ%3D%3D?line=9'>10</a>\u001b[0m mt \u001b[39m=\u001b[39m \u001b[39m\"\u001b[39m\u001b[39mMATCH\u001b[39m\u001b[39m\"\u001b[39m\n\u001b[1;32m     <a href='vscode-notebook-cell://wsl%2Bubuntu/home/stefanbund/ubuntu/m1/fileGettingSetup.ipynb#X53sdnNjb2RlLXJlbW90ZQ%3D%3D?line=10'>11</a>\u001b[0m \u001b[39mif\u001b[39;00m m \u001b[39min\u001b[39;00m s1:\n\u001b[0;32m---> <a href='vscode-notebook-cell://wsl%2Bubuntu/home/stefanbund/ubuntu/m1/fileGettingSetup.ipynb#X53sdnNjb2RlLXJlbW90ZQ%3D%3D?line=11'>12</a>\u001b[0m     getlob(m, s1)\n\u001b[1;32m     <a href='vscode-notebook-cell://wsl%2Bubuntu/home/stefanbund/ubuntu/m1/fileGettingSetup.ipynb#X53sdnNjb2RlLXJlbW90ZQ%3D%3D?line=12'>13</a>\u001b[0m \u001b[39melif\u001b[39;00m c \u001b[39min\u001b[39;00m s1:\n\u001b[1;32m     <a href='vscode-notebook-cell://wsl%2Bubuntu/home/stefanbund/ubuntu/m1/fileGettingSetup.ipynb#X53sdnNjb2RlLXJlbW90ZQ%3D%3D?line=13'>14</a>\u001b[0m     getlob(c, s1)\n",
      "\u001b[0;31mTypeError\u001b[0m: getlob() takes 1 positional argument but 2 were given"
     ]
    }
   ],
   "source": [
    "for row, val in ind.iterrows():\n",
    "    s1 = val['date'].replace(','  , '')\n",
    "    ss = s1.split(\" \")\n",
    "    day  = ss[0][0:3]\n",
    "    mon = ss[1][0:3]\n",
    "    num = ss[2]\n",
    "    if int(num) <10:\n",
    "        num = \"0\"+num\n",
    "    yr = ss[3]\n",
    "    l = day + \" \" + mon + \" \" + num\n",
    "    print(l, \" \", val['indicator'])\n",
    "    res = getFilesByDateOf(l)"
   ]
  },
  {
   "cell_type": "code",
   "execution_count": null,
   "metadata": {},
   "outputs": [],
   "source": [
    "def demarcateByAnnounceTime():\n",
    "    dfArray = iterateByType(\"CAPS\")\n",
    "    print(\"CAPS array: \\n\",len(dfArray))\n",
    "    #now iterate the array, and per caps result, draw a chart with a line and the caps series(53)\n",
    "    for i in range(len(dfArray)):\n",
    "        # print(i, \"iterated 1, \",  dfArray[i], \"iterated 2, \", type(dfArray[i]))\n",
    "        if isinstance(dfArray[i], pd.DataFrame):  #'bc', 'ac', 'tbv', 'tav', 'time', 'mp', 'minBid'\n",
    "            # print(dfArray[i].columns)\n",
    "            #time (mp vs bc) / time (mp vs ac)\n",
    "            data1 = dfArray[i]['mp']\n",
    "            data2 = dfArray[i]['bc']\n",
    "            t= dfArray[i]['time']\n",
    "            fig, ax1 = plt.subplots()\n",
    "\n",
    "            color = 'tab:red'\n",
    "            ax1.set_xlabel('time (s)')\n",
    "            ax1.set_ylabel('price, AVAX', color=color)\n",
    "            ax1.plot(t, data1, color=color)\n",
    "            ax1.tick_params(axis='y', labelcolor=color)\n",
    "\n",
    "            ax2 = ax1.twinx()  # instantiate a second axes that shares the same x-axis\n",
    "\n",
    "            color = 'tab:blue'\n",
    "            ax2.set_ylabel('buy capitalization', color=color)  # we already handled the x-label with ax1\n",
    "            ax2.plot(t, data2, color=color)\n",
    "            ax2.tick_params(axis='y', labelcolor=color)\n",
    "\n",
    "            fig.tight_layout()  # otherwise the right y-label is slightly clipped\n",
    "            e = dfArray[i]['time'].loc[0]   #datetime.datetime.fromtimestamp(\n",
    "            comb = e ,\" Buy Cap versus Price\" #.strftime('%m-%d')\n",
    "            plt.title(comb)\n",
    "            plt.show()\n",
    "        \n",
    "        \n",
    "        \n"
   ]
  }
 ],
 "metadata": {
  "kernelspec": {
   "display_name": "Python 3.9.13 ('base')",
   "language": "python",
   "name": "python3"
  },
  "language_info": {
   "codemirror_mode": {
    "name": "ipython",
    "version": 3
   },
   "file_extension": ".py",
   "mimetype": "text/x-python",
   "name": "python",
   "nbconvert_exporter": "python",
   "pygments_lexer": "ipython3",
   "version": "3.9.13"
  },
  "orig_nbformat": 4,
  "vscode": {
   "interpreter": {
    "hash": "d3e22fbf24de83286095bc3b5210627f6bc981651d6552786864646d5785863e"
   }
  }
 },
 "nbformat": 4,
 "nbformat_minor": 2
}
