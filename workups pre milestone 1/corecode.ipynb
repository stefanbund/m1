{
 "cells": [
  {
   "cell_type": "markdown",
   "metadata": {},
   "source": [
    "# introduction\n",
    "range of mp and mean values, variance"
   ]
  },
  {
   "cell_type": "code",
   "execution_count": 78,
   "metadata": {},
   "outputs": [
    {
     "name": "stdout",
     "output_type": "stream",
     "text": [
      "percent range among prices\n",
      "max 25.69 min 22.96\n",
      "11.890243902439025\n",
      "\n",
      "percent range in mean\n",
      "max 10833.01346777538 min 6410.971146649717\n",
      "68.976169444103\n"
     ]
    }
   ],
   "source": [
    "import seaborn as sns\n",
    "import matplotlib.pyplot as plt\n",
    "import pandas as pd\n",
    "from sklearn import linear_model\n",
    "import numpy as np\n",
    "#1-6-post-hft-AVAX/jul29 24 hr/Thu Jul 28 2022 06_18_25 GMT-0700 (Pacific Daylight Time)-MEANSHIFT.csv\n",
    "csv = pd.read_csv(\"Thu Jul 28 2022 06_18_25 GMT-0700 (Pacific Daylight Time)-MEANSHIFT (1).csv\")\n",
    "#csv[['mean']]\n",
    "#print(csv)\n",
    "#for row in csv.itertuples():\n",
    " #   print(row.mp, row.mean)#ok\n",
    "mp = csv['mp'].to_numpy()#convert to array\n",
    "type(mp)\n",
    "mean = csv['mean'].to_numpy()\n",
    "max = np.max(mp)\n",
    "min = np.min(mp)\n",
    "print('percent range among prices')\n",
    "print('max', max, 'min',min)\n",
    "diff = ((max - min)/min) * 100\n",
    "print(diff)\n",
    "maxm = np.max(mean)\n",
    "minm = np.min(mean)\n",
    "print()\n",
    "print('percent range in mean')\n",
    "print('max', maxm, 'min',minm)\n",
    "diffm = ((maxm - minm)/minm) * 100\n",
    "print(diffm)\n",
    "#for l in mp:\n",
    " #   print('for mp',l)\n",
    "    #for j in mean:\n",
    "     #   print('for mean',j)"
   ]
  },
  {
   "cell_type": "markdown",
   "metadata": {},
   "source": [
    "#### getting index location points of min and max ![https://www.geeksforgeeks.org/search-a-pandas-column-for-a-value/]"
   ]
  },
  {
   "cell_type": "code",
   "execution_count": null,
   "metadata": {},
   "outputs": [],
   "source": []
  }
 ],
 "metadata": {
  "kernelspec": {
   "display_name": "Python 3.9.13 ('base')",
   "language": "python",
   "name": "python3"
  },
  "language_info": {
   "name": "python",
   "version": "3.9.13"
  },
  "orig_nbformat": 4,
  "vscode": {
   "interpreter": {
    "hash": "d3e22fbf24de83286095bc3b5210627f6bc981651d6552786864646d5785863e"
   }
  }
 },
 "nbformat": 4,
 "nbformat_minor": 2
}
