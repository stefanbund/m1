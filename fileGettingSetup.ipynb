{
 "cells": [
  {
   "cell_type": "code",
   "execution_count": 1,
   "metadata": {},
   "outputs": [],
   "source": [
    "import pandas as pd"
   ]
  },
  {
   "cell_type": "code",
   "execution_count": 2,
   "metadata": {},
   "outputs": [],
   "source": [
    "#convert the us indicator date to the filename type, using\n",
    "#https://pynative.com/python-datetime-format-strftime/#:~:text=Below%20are%20the%20character%20codes%20to%20format%20the,of%20the%20weekday.%20Like%2C%20Monday%2C%20Tuesday%20More%20items\n",
    "def convertxy():\n",
    "    from dateutil import parser\n",
    "    dt = parser.parse(\"Dec 21 2020  1:01PM\")\n",
    "    print(dt)"
   ]
  },
  {
   "cell_type": "code",
   "execution_count": 3,
   "metadata": {},
   "outputs": [],
   "source": [
    "#take string, Wednesday, August 17, 2022\n",
    "#strip first three characters from first word to match file name by day\n",
    "#strip first three characters from second word, to arrive at comparable"
   ]
  },
  {
   "cell_type": "code",
   "execution_count": 4,
   "metadata": {},
   "outputs": [
    {
     "name": "stdout",
     "output_type": "stream",
     "text": [
      "2020-12-21 13:01:00\n",
      "None\n"
     ]
    }
   ],
   "source": [
    "print(convertxy())"
   ]
  },
  {
   "attachments": {},
   "cell_type": "markdown",
   "metadata": {},
   "source": [
    "how to access the limit order book files:"
   ]
  },
  {
   "cell_type": "code",
   "execution_count": 270,
   "metadata": {},
   "outputs": [
    {
     "data": {
      "text/plain": [
       "mp           float64\n",
       "timeStamp      int64\n",
       "mean         float64\n",
       "skew         float64\n",
       "dtype: object"
      ]
     },
     "execution_count": 270,
     "metadata": {},
     "output_type": "execute_result"
    }
   ],
   "source": [
    "# Thu Aug 11 2022 05:39:53 GMT-0700 (Pacific Daylight Time)-MEANSHIFT.csv\n",
    "x = pd.read_csv(\"lob_caps/Sat Sep 24 2022 11:10:07 GMT-0700 (Pacific Daylight Time)-MEANSHIFT.csv\")\n",
    "x.dtypes\n"
   ]
  },
  {
   "cell_type": "code",
   "execution_count": 170,
   "metadata": {},
   "outputs": [
    {
     "data": {
      "text/plain": [
       "date    object\n",
       "time    object\n",
       "dtype: object"
      ]
     },
     "execution_count": 170,
     "metadata": {},
     "output_type": "execute_result"
    }
   ],
   "source": [
    "ind = pd.read_csv(\"usIndicatorsFall22-fulls.csv\")\n",
    "t = ['date', 'time']\n",
    "ind[t].dtypes"
   ]
  },
  {
   "cell_type": "code",
   "execution_count": 259,
   "metadata": {},
   "outputs": [
    {
     "data": {
      "text/plain": [
       "array(['ISM Manufacturing PMI', 'JOLTS Job Openings',\n",
       "       'ISM Non Manufacturing PMI', 'Balance of Trade',\n",
       "       'Non Farm Payrolls', 'Core Inflation Rate', 'Inflation Rate YoY',\n",
       "       'PPI MoM', 'Michigan Consumer Sentiment Pref', 'Buildling Permits',\n",
       "       'retail sales mom', 'fomc minutes', 'durable goods orders mom',\n",
       "       'personal income mom', 'personal spending mom',\n",
       "       'fed chair powell speech', 'jolts job openings',\n",
       "       'ism manufacturing pmi', 'non farm payrolls',\n",
       "       'ism non manufacturing pmi', 'balance of trade', 'ppi mom',\n",
       "       'building permits', 'fomc economic projections',\n",
       "       'fed press conference', 'inflation rate yoy',\n",
       "       'core inflation rate yoy', 'michigan consumer sentiment pref',\n",
       "       'buildling permits'], dtype=object)"
      ]
     },
     "execution_count": 259,
     "metadata": {},
     "output_type": "execute_result"
    }
   ],
   "source": [
    "ind['indicator'].unique()"
   ]
  },
  {
   "attachments": {},
   "cell_type": "markdown",
   "metadata": {},
   "source": [
    "gather all data files per announcement"
   ]
  },
  {
   "cell_type": "code",
   "execution_count": 286,
   "metadata": {},
   "outputs": [],
   "source": [
    "def getlob(type, csv):\n",
    "    # print(\"csv named \",csv)\n",
    "    csv = \"lob_caps/\" + csv\n",
    "    df = pd.read_csv(csv)\n",
    "    print(\"\\tfor \", type, df.columns)\n",
    "    return 0"
   ]
  },
  {
   "cell_type": "code",
   "execution_count": 289,
   "metadata": {},
   "outputs": [],
   "source": [
    "import os\n",
    "\n",
    "def getFilesByDateOf(d ):\n",
    "    for root, dirs, files in os.walk(\".\"):\n",
    "        for s1 in files:\n",
    "            if d in s1 :\n",
    "                # print(\"match \", d, \" : \", s1)\n",
    "                m = \"MEANSHIFT\"\n",
    "                c = \"CAPS\"\n",
    "                mt = \"MATCH\"\n",
    "                if m in s1:\n",
    "                    getlob(m, s1)\n",
    "                elif c in s1:\n",
    "                    getlob(c, s1)\n",
    "                elif mt in s1:\n",
    "                    getlob(mt, s1)\n",
    "    return 0"
   ]
  },
  {
   "cell_type": "code",
   "execution_count": 290,
   "metadata": {},
   "outputs": [
    {
     "name": "stdout",
     "output_type": "stream",
     "text": [
      "Mon Aug 01   ISM Manufacturing PMI\n",
      "Tue Aug 02   JOLTS Job Openings\n",
      "Wed Aug 03   ISM Non Manufacturing PMI\n",
      "Thu Aug 04   Balance of Trade\n",
      "Fri Aug 05   Non Farm Payrolls\n",
      "Wed Aug 10   Core Inflation Rate\n",
      "Wed Aug 10   Inflation Rate YoY\n",
      "Thu Aug 11   PPI MoM\n",
      "\tfor  MEANSHIFT Index(['mp', 'timeStamp', 'mean', 'skew'], dtype='object')\n",
      "\tfor  MATCH Index(['time', 'exit', 'distance', 'bidCap', 'askCap', 'exitTime',\n",
      "       'entryReachTime', 'exitReachTime', 'mp'],\n",
      "      dtype='object')\n",
      "\tfor  CAPS Index(['bc', 'ac', 'tbv', 'tav', 'time', 'mp', 'minBid'], dtype='object')\n",
      "Fri Aug 12   Michigan Consumer Sentiment Pref\n",
      "\tfor  MATCH Index(['time', 'exit', 'distance', 'bidCap', 'askCap', 'exitTime',\n",
      "       'entryReachTime', 'exitReachTime', 'mp'],\n",
      "      dtype='object')\n",
      "\tfor  MEANSHIFT Index(['mp', 'timeStamp', 'mean', 'skew'], dtype='object')\n",
      "\tfor  CAPS Index(['bc', 'ac', 'tbv', 'tav', 'time', 'mp', 'minBid'], dtype='object')\n",
      "Tue Aug 16   Buildling Permits\n",
      "\tfor  CAPS Index(['bc', 'ac', 'tbv', 'tav', 'time', 'mp', 'minBid'], dtype='object')\n",
      "\tfor  MEANSHIFT Index(['mp', 'timeStamp', 'mean', 'skew'], dtype='object')\n",
      "\tfor  MATCH Index(['time', 'exit', 'distance', 'bidCap', 'askCap', 'exitTime',\n",
      "       'entryReachTime', 'exitReachTime', 'mp'],\n",
      "      dtype='object')\n",
      "Wed Aug 17   retail sales mom\n",
      "\tfor  MATCH Index(['time', 'exit', 'distance', 'bidCap', 'askCap', 'exitTime',\n",
      "       'entryReachTime', 'exitReachTime', 'mp'],\n",
      "      dtype='object')\n",
      "\tfor  MEANSHIFT Index(['mp', 'timeStamp', 'mean', 'skew'], dtype='object')\n",
      "\tfor  CAPS Index(['bc', 'ac', 'tbv', 'tav', 'time', 'mp', 'minBid'], dtype='object')\n",
      "Wed Aug 17   fomc minutes\n",
      "\tfor  MATCH Index(['time', 'exit', 'distance', 'bidCap', 'askCap', 'exitTime',\n",
      "       'entryReachTime', 'exitReachTime', 'mp'],\n",
      "      dtype='object')\n",
      "\tfor  MEANSHIFT Index(['mp', 'timeStamp', 'mean', 'skew'], dtype='object')\n",
      "\tfor  CAPS Index(['bc', 'ac', 'tbv', 'tav', 'time', 'mp', 'minBid'], dtype='object')\n",
      "Wed Aug 24   durable goods orders mom\n",
      "\tfor  CAPS Index(['bc', 'ac', 'tbv', 'tav', 'time', 'mp', 'minBid'], dtype='object')\n",
      "\tfor  MATCH Index(['time', 'exit', 'distance', 'bidCap', 'askCap', 'exitTime',\n",
      "       'entryReachTime', 'exitReachTime', 'mp'],\n",
      "      dtype='object')\n",
      "\tfor  MEANSHIFT Index(['mp', 'timeStamp', 'mean', 'skew'], dtype='object')\n",
      "Fri Aug 26   personal income mom\n",
      "\tfor  CAPS Index(['bc', 'ac', 'tbv', 'tav', 'time', 'mp', 'minBid'], dtype='object')\n",
      "\tfor  MEANSHIFT Index(['mp', 'timeStamp', 'mean', 'skew'], dtype='object')\n",
      "\tfor  MATCH Index(['time', 'exit', 'distance', 'bidCap', 'askCap', 'exitTime',\n",
      "       'entryReachTime', 'exitReachTime', 'mp'],\n",
      "      dtype='object')\n",
      "Fri Aug 26   personal spending mom\n",
      "\tfor  CAPS Index(['bc', 'ac', 'tbv', 'tav', 'time', 'mp', 'minBid'], dtype='object')\n",
      "\tfor  MEANSHIFT Index(['mp', 'timeStamp', 'mean', 'skew'], dtype='object')\n",
      "\tfor  MATCH Index(['time', 'exit', 'distance', 'bidCap', 'askCap', 'exitTime',\n",
      "       'entryReachTime', 'exitReachTime', 'mp'],\n",
      "      dtype='object')\n",
      "Fri Aug 26   fed chair powell speech\n",
      "\tfor  CAPS Index(['bc', 'ac', 'tbv', 'tav', 'time', 'mp', 'minBid'], dtype='object')\n",
      "\tfor  MEANSHIFT Index(['mp', 'timeStamp', 'mean', 'skew'], dtype='object')\n",
      "\tfor  MATCH Index(['time', 'exit', 'distance', 'bidCap', 'askCap', 'exitTime',\n",
      "       'entryReachTime', 'exitReachTime', 'mp'],\n",
      "      dtype='object')\n",
      "Tue Aug 30   jolts job openings\n",
      "Thu Sep 01   ism manufacturing pmi\n",
      "\tfor  CAPS Index(['bc', 'ac', 'tbv', 'tav', 'time', 'mp', 'minBid'], dtype='object')\n",
      "\tfor  MATCH Index(['time', 'exit', 'distance', 'bidCap', 'askCap', 'exitTime',\n",
      "       'entryReachTime', 'exitReachTime', 'mp'],\n",
      "      dtype='object')\n",
      "\tfor  MEANSHIFT Index(['mp', 'timeStamp', 'mean', 'skew'], dtype='object')\n",
      "\tfor  MEANSHIFT Index(['mp', 'timeStamp', 'mean', 'skew'], dtype='object')\n",
      "\tfor  CAPS Index(['bc', 'ac', 'tbv', 'tav', 'time', 'mp', 'minBid'], dtype='object')\n",
      "Fri Sep 02   non farm payrolls\n",
      "\tfor  MATCH Index(['time', 'exit', 'distance', 'bidCap', 'askCap', 'exitTime',\n",
      "       'entryReachTime', 'exitReachTime', 'mp'],\n",
      "      dtype='object')\n",
      "\tfor  MEANSHIFT Index(['mp', 'timeStamp', 'mean', 'skew'], dtype='object')\n",
      "\tfor  CAPS Index(['bc', 'ac', 'tbv', 'tav', 'time', 'mp', 'minBid'], dtype='object')\n",
      "Tue Sep 06   ism non manufacturing pmi\n",
      "\tfor  MATCH Index(['time', 'exit', 'distance', 'bidCap', 'askCap', 'exitTime',\n",
      "       'entryReachTime', 'exitReachTime', 'mp'],\n",
      "      dtype='object')\n",
      "\tfor  CAPS Index(['bc', 'ac', 'tbv', 'tav', 'time', 'mp', 'minBid'], dtype='object')\n",
      "\tfor  MEANSHIFT Index(['mp', 'timeStamp', 'mean', 'skew'], dtype='object')\n",
      "Wed Sep 07   balance of trade\n",
      "\tfor  MATCH Index(['time', 'exit', 'distance', 'bidCap', 'askCap', 'exitTime',\n",
      "       'entryReachTime', 'exitReachTime', 'mp'],\n",
      "      dtype='object')\n",
      "\tfor  CAPS Index(['bc', 'ac', 'tbv', 'tav', 'time', 'mp', 'minBid'], dtype='object')\n",
      "\tfor  MEANSHIFT Index(['mp', 'timeStamp', 'mean', 'skew'], dtype='object')\n",
      "Wed Sep 14   ppi mom\n",
      "\tfor  MEANSHIFT Index(['mp', 'timeStamp', 'mean', 'skew'], dtype='object')\n",
      "\tfor  MATCH Index(['time', 'exit', 'distance', 'bidCap', 'askCap', 'exitTime',\n",
      "       'entryReachTime', 'exitReachTime', 'mp'],\n",
      "      dtype='object')\n",
      "\tfor  CAPS Index(['bc', 'ac', 'tbv', 'tav', 'time', 'mp', 'minBid'], dtype='object')\n",
      "Thu Sep 15   retail sales mom\n",
      "\tfor  CAPS Index(['bc', 'ac', 'tbv', 'tav', 'time', 'mp', 'minBid'], dtype='object')\n",
      "\tfor  MEANSHIFT Index(['mp', 'timeStamp', 'mean', 'skew'], dtype='object')\n",
      "\tfor  MATCH Index(['time', 'exit', 'distance', 'bidCap', 'askCap', 'exitTime',\n",
      "       'entryReachTime', 'exitReachTime', 'mp'],\n",
      "      dtype='object')\n",
      "Fri Sep 16   Michigan Consumer Sentiment Pref\n",
      "\tfor  MEANSHIFT Index(['mp', 'timeStamp', 'mean', 'skew'], dtype='object')\n",
      "\tfor  MATCH Index(['time', 'exit', 'distance', 'bidCap', 'askCap', 'exitTime',\n",
      "       'entryReachTime', 'exitReachTime', 'mp'],\n",
      "      dtype='object')\n",
      "\tfor  CAPS Index(['bc', 'ac', 'tbv', 'tav', 'time', 'mp', 'minBid'], dtype='object')\n",
      "Tue Sep 20   building permits\n",
      "\tfor  MEANSHIFT Index(['mp', 'timeStamp', 'mean', 'skew'], dtype='object')\n",
      "\tfor  MATCH Index(['time', 'exit', 'distance', 'bidCap', 'askCap', 'exitTime',\n",
      "       'entryReachTime', 'exitReachTime', 'mp'],\n",
      "      dtype='object')\n",
      "\tfor  CAPS Index(['bc', 'ac', 'tbv', 'tav', 'time', 'mp', 'minBid'], dtype='object')\n",
      "Wed Sep 21   fomc economic projections\n",
      "\tfor  MEANSHIFT Index(['mp', 'timeStamp', 'mean', 'skew'], dtype='object')\n",
      "\tfor  MATCH Index(['time', 'exit', 'distance', 'bidCap', 'askCap', 'exitTime',\n",
      "       'entryReachTime', 'exitReachTime', 'mp'],\n",
      "      dtype='object')\n",
      "\tfor  CAPS Index(['bc', 'ac', 'tbv', 'tav', 'time', 'mp', 'minBid'], dtype='object')\n",
      "Wed Sep 21   fed press conference\n",
      "\tfor  MEANSHIFT Index(['mp', 'timeStamp', 'mean', 'skew'], dtype='object')\n",
      "\tfor  MATCH Index(['time', 'exit', 'distance', 'bidCap', 'askCap', 'exitTime',\n",
      "       'entryReachTime', 'exitReachTime', 'mp'],\n",
      "      dtype='object')\n",
      "\tfor  CAPS Index(['bc', 'ac', 'tbv', 'tav', 'time', 'mp', 'minBid'], dtype='object')\n",
      "Tue Sep 27   durable goods orders mom\n",
      "\tfor  MEANSHIFT Index(['mp', 'timeStamp', 'mean', 'skew'], dtype='object')\n",
      "\tfor  MATCH Index(['time', 'exit', 'distance', 'bidCap', 'askCap', 'exitTime',\n",
      "       'entryReachTime', 'exitReachTime', 'mp'],\n",
      "      dtype='object')\n",
      "\tfor  CAPS Index(['bc', 'ac', 'tbv', 'tav', 'time', 'mp', 'minBid'], dtype='object')\n",
      "Fri Sep 30   personal spending mom\n",
      "\tfor  MATCH Index(['time', 'exit', 'distance', 'bidCap', 'askCap', 'exitTime',\n",
      "       'entryReachTime', 'exitReachTime', 'mp'],\n",
      "      dtype='object')\n",
      "\tfor  MEANSHIFT Index(['mp', 'timeStamp', 'mean', 'skew'], dtype='object')\n",
      "\tfor  CAPS Index(['bc', 'ac', 'tbv', 'tav', 'time', 'mp', 'minBid'], dtype='object')\n",
      "Fri Sep 30   personal income mom\n",
      "\tfor  MATCH Index(['time', 'exit', 'distance', 'bidCap', 'askCap', 'exitTime',\n",
      "       'entryReachTime', 'exitReachTime', 'mp'],\n",
      "      dtype='object')\n",
      "\tfor  MEANSHIFT Index(['mp', 'timeStamp', 'mean', 'skew'], dtype='object')\n",
      "\tfor  CAPS Index(['bc', 'ac', 'tbv', 'tav', 'time', 'mp', 'minBid'], dtype='object')\n",
      "Mon Oct 03   ism manufacturing pmi\n",
      "\tfor  CAPS Index(['bc', 'ac', 'tbv', 'tav', 'time', 'mp', 'minBid'], dtype='object')\n",
      "\tfor  MATCH Index(['time', 'exit', 'distance', 'bidCap', 'askCap', 'exitTime',\n",
      "       'entryReachTime', 'exitReachTime', 'mp'],\n",
      "      dtype='object')\n",
      "\tfor  MEANSHIFT Index(['mp', 'timeStamp', 'mean', 'skew'], dtype='object')\n",
      "Tue Oct 04   jolts job openings\n",
      "Wed Oct 05   balance of trade\n",
      "\tfor  MATCH Index(['time', 'exit', 'distance', 'bidCap', 'askCap', 'exitTime',\n",
      "       'entryReachTime', 'exitReachTime', 'mp'],\n",
      "      dtype='object')\n",
      "\tfor  CAPS Index(['bc', 'ac', 'tbv', 'tav', 'time', 'mp', 'minBid'], dtype='object')\n",
      "\tfor  MEANSHIFT Index(['mp', 'timeStamp', 'mean', 'skew'], dtype='object')\n",
      "Wed Oct 05   ism non manufacturing pmi\n",
      "\tfor  MATCH Index(['time', 'exit', 'distance', 'bidCap', 'askCap', 'exitTime',\n",
      "       'entryReachTime', 'exitReachTime', 'mp'],\n",
      "      dtype='object')\n",
      "\tfor  CAPS Index(['bc', 'ac', 'tbv', 'tav', 'time', 'mp', 'minBid'], dtype='object')\n",
      "\tfor  MEANSHIFT Index(['mp', 'timeStamp', 'mean', 'skew'], dtype='object')\n",
      "Fri Oct 07   non farm payrolls\n",
      "\tfor  MEANSHIFT Index(['mp', 'timeStamp', 'mean', 'skew'], dtype='object')\n",
      "\tfor  MATCH Index(['time', 'exit', 'distance', 'bidCap', 'askCap', 'exitTime',\n",
      "       'entryReachTime', 'exitReachTime', 'mp'],\n",
      "      dtype='object')\n",
      "\tfor  CAPS Index(['bc', 'ac', 'tbv', 'tav', 'time', 'mp', 'minBid'], dtype='object')\n",
      "Wed Oct 12   ppi mom\n",
      "\tfor  CAPS Index(['bc', 'ac', 'tbv', 'tav', 'time', 'mp', 'minBid'], dtype='object')\n",
      "\tfor  MATCH Index(['time', 'exit', 'distance', 'bidCap', 'askCap', 'exitTime',\n",
      "       'entryReachTime', 'exitReachTime', 'mp'],\n",
      "      dtype='object')\n",
      "\tfor  MEANSHIFT Index(['mp', 'timeStamp', 'mean', 'skew'], dtype='object')\n",
      "Wed Oct 12   fomc minutes\n",
      "\tfor  CAPS Index(['bc', 'ac', 'tbv', 'tav', 'time', 'mp', 'minBid'], dtype='object')\n",
      "\tfor  MATCH Index(['time', 'exit', 'distance', 'bidCap', 'askCap', 'exitTime',\n",
      "       'entryReachTime', 'exitReachTime', 'mp'],\n",
      "      dtype='object')\n",
      "\tfor  MEANSHIFT Index(['mp', 'timeStamp', 'mean', 'skew'], dtype='object')\n",
      "Thu Oct 13   inflation rate yoy\n",
      "\tfor  MATCH Index(['time', 'exit', 'distance', 'bidCap', 'askCap', 'exitTime',\n",
      "       'entryReachTime', 'exitReachTime', 'mp'],\n",
      "      dtype='object')\n",
      "\tfor  CAPS Index(['bc', 'ac', 'tbv', 'tav', 'time', 'mp', 'minBid'], dtype='object')\n",
      "\tfor  MEANSHIFT Index(['mp', 'timeStamp', 'mean', 'skew'], dtype='object')\n",
      "Thu Oct 13   core inflation rate yoy\n",
      "\tfor  MATCH Index(['time', 'exit', 'distance', 'bidCap', 'askCap', 'exitTime',\n",
      "       'entryReachTime', 'exitReachTime', 'mp'],\n",
      "      dtype='object')\n",
      "\tfor  CAPS Index(['bc', 'ac', 'tbv', 'tav', 'time', 'mp', 'minBid'], dtype='object')\n",
      "\tfor  MEANSHIFT Index(['mp', 'timeStamp', 'mean', 'skew'], dtype='object')\n",
      "Fri Oct 14   retail sales mom\n",
      "\tfor  CAPS Index(['bc', 'ac', 'tbv', 'tav', 'time', 'mp', 'minBid'], dtype='object')\n",
      "\tfor  MEANSHIFT Index(['mp', 'timeStamp', 'mean', 'skew'], dtype='object')\n",
      "Fri Oct 14   michigan consumer sentiment pref\n",
      "\tfor  CAPS Index(['bc', 'ac', 'tbv', 'tav', 'time', 'mp', 'minBid'], dtype='object')\n",
      "\tfor  MEANSHIFT Index(['mp', 'timeStamp', 'mean', 'skew'], dtype='object')\n",
      "Wed Oct 19   buildling permits\n",
      "\tfor  MATCH Index(['time', 'exit', 'distance', 'bidCap', 'askCap', 'exitTime',\n",
      "       'entryReachTime', 'exitReachTime', 'mp'],\n",
      "      dtype='object')\n",
      "\tfor  MEANSHIFT Index(['mp', 'timeStamp', 'mean', 'skew'], dtype='object')\n",
      "\tfor  CAPS Index(['bc', 'ac', 'tbv', 'tav', 'time', 'mp', 'minBid'], dtype='object')\n",
      "Thu Oct 27   durable goods orders mom\n",
      "\tfor  MATCH Index(['time', 'exit', 'distance', 'bidCap', 'askCap', 'exitTime',\n",
      "       'entryReachTime', 'exitReachTime', 'mp'],\n",
      "      dtype='object')\n",
      "\tfor  CAPS Index(['bc', 'ac', 'tbv', 'tav', 'time', 'mp', 'minBid'], dtype='object')\n",
      "\tfor  MEANSHIFT Index(['mp', 'timeStamp', 'mean', 'skew'], dtype='object')\n",
      "Fri Oct 28   personal income mom\n",
      "\tfor  MEANSHIFT Index(['mp', 'timeStamp', 'mean', 'skew'], dtype='object')\n",
      "\tfor  CAPS Index(['bc', 'ac', 'tbv', 'tav', 'time', 'mp', 'minBid'], dtype='object')\n",
      "\tfor  MATCH Index(['time', 'exit', 'distance', 'bidCap', 'askCap', 'exitTime',\n",
      "       'entryReachTime', 'exitReachTime', 'mp'],\n",
      "      dtype='object')\n",
      "Fri Oct 28   personal spending mom\n",
      "\tfor  MEANSHIFT Index(['mp', 'timeStamp', 'mean', 'skew'], dtype='object')\n",
      "\tfor  CAPS Index(['bc', 'ac', 'tbv', 'tav', 'time', 'mp', 'minBid'], dtype='object')\n",
      "\tfor  MATCH Index(['time', 'exit', 'distance', 'bidCap', 'askCap', 'exitTime',\n",
      "       'entryReachTime', 'exitReachTime', 'mp'],\n",
      "      dtype='object')\n",
      "Tue Nov 01   ism manufacturing pmi\n",
      "\tfor  CAPS Index(['bc', 'ac', 'tbv', 'tav', 'time', 'mp', 'minBid'], dtype='object')\n",
      "\tfor  MATCH Index(['time', 'exit', 'distance', 'bidCap', 'askCap', 'exitTime',\n",
      "       'entryReachTime', 'exitReachTime', 'mp'],\n",
      "      dtype='object')\n",
      "\tfor  MEANSHIFT Index(['mp', 'timeStamp', 'mean', 'skew'], dtype='object')\n",
      "Tue Nov 01   jolts job openings\n",
      "\tfor  CAPS Index(['bc', 'ac', 'tbv', 'tav', 'time', 'mp', 'minBid'], dtype='object')\n",
      "\tfor  MATCH Index(['time', 'exit', 'distance', 'bidCap', 'askCap', 'exitTime',\n",
      "       'entryReachTime', 'exitReachTime', 'mp'],\n",
      "      dtype='object')\n",
      "\tfor  MEANSHIFT Index(['mp', 'timeStamp', 'mean', 'skew'], dtype='object')\n",
      "Wed Nov 02   fed press conference\n",
      "\tfor  MEANSHIFT Index(['mp', 'timeStamp', 'mean', 'skew'], dtype='object')\n",
      "\tfor  MATCH Index(['time', 'exit', 'distance', 'bidCap', 'askCap', 'exitTime',\n",
      "       'entryReachTime', 'exitReachTime', 'mp'],\n",
      "      dtype='object')\n",
      "\tfor  CAPS Index(['bc', 'ac', 'tbv', 'tav', 'time', 'mp', 'minBid'], dtype='object')\n",
      "Thu Nov 03   balance of trade\n",
      "\tfor  MEANSHIFT Index(['mp', 'timeStamp', 'mean', 'skew'], dtype='object')\n",
      "\tfor  CAPS Index(['bc', 'ac', 'tbv', 'tav', 'time', 'mp', 'minBid'], dtype='object')\n",
      "\tfor  MATCH Index(['time', 'exit', 'distance', 'bidCap', 'askCap', 'exitTime',\n",
      "       'entryReachTime', 'exitReachTime', 'mp'],\n",
      "      dtype='object')\n",
      "Fri Nov 04   Non Farm Payrolls\n",
      "\tfor  CAPS Index(['bc', 'ac', 'tbv', 'tav', 'time', 'mp', 'minBid'], dtype='object')\n",
      "\tfor  MEANSHIFT Index(['mp', 'timeStamp', 'mean', 'skew'], dtype='object')\n",
      "\tfor  MATCH Index(['time', 'exit', 'distance', 'bidCap', 'askCap', 'exitTime',\n",
      "       'entryReachTime', 'exitReachTime', 'mp'],\n",
      "      dtype='object')\n",
      "Thu Nov 10   inflation rate yoy\n",
      "\tfor  CAPS Index(['bc', 'ac', 'tbv', 'tav', 'time', 'mp', 'minBid'], dtype='object')\n",
      "\tfor  MATCH Index(['time', 'exit', 'distance', 'bidCap', 'askCap', 'exitTime',\n",
      "       'entryReachTime', 'exitReachTime', 'mp'],\n",
      "      dtype='object')\n",
      "\tfor  MEANSHIFT Index(['mp', 'timeStamp', 'mean', 'skew'], dtype='object')\n",
      "Thu Nov 10   core inflation rate yoy\n",
      "\tfor  CAPS Index(['bc', 'ac', 'tbv', 'tav', 'time', 'mp', 'minBid'], dtype='object')\n",
      "\tfor  MATCH Index(['time', 'exit', 'distance', 'bidCap', 'askCap', 'exitTime',\n",
      "       'entryReachTime', 'exitReachTime', 'mp'],\n",
      "      dtype='object')\n",
      "\tfor  MEANSHIFT Index(['mp', 'timeStamp', 'mean', 'skew'], dtype='object')\n",
      "Fri Nov 11   michigan consumer sentiment pref\n",
      "\tfor  MEANSHIFT Index(['mp', 'timeStamp', 'mean', 'skew'], dtype='object')\n",
      "\tfor  MATCH Index(['time', 'exit', 'distance', 'bidCap', 'askCap', 'exitTime',\n",
      "       'entryReachTime', 'exitReachTime', 'mp'],\n",
      "      dtype='object')\n",
      "\tfor  CAPS Index(['bc', 'ac', 'tbv', 'tav', 'time', 'mp', 'minBid'], dtype='object')\n"
     ]
    }
   ],
   "source": [
    "for row, val in ind.iterrows():\n",
    "    s1 = val['date'].replace(','  , '')\n",
    "    ss = s1.split(\" \")\n",
    "    day  = ss[0][0:3]\n",
    "    mon = ss[1][0:3]\n",
    "    num = ss[2]\n",
    "    if int(num) <10:\n",
    "        num = \"0\"+num\n",
    "    yr = ss[3]\n",
    "    l = day + \" \" + mon + \" \" + num\n",
    "    print(l, \" \", val['indicator'])\n",
    "    res = getFilesByDateOf(l)"
   ]
  },
  {
   "attachments": {},
   "cell_type": "markdown",
   "metadata": {},
   "source": [
    "**Iterate Indicator dataframe by index**\n",
    "\n",
    "provide an index location in the indicator dataframe, and get back the indicator, with information"
   ]
  },
  {
   "cell_type": "code",
   "execution_count": 8,
   "metadata": {},
   "outputs": [],
   "source": [
    "def iterateIndforIndex(index):\n",
    "    frame = ind.loc[index]\n",
    "    \n",
    "    return frame"
   ]
  },
  {
   "cell_type": "code",
   "execution_count": 9,
   "metadata": {},
   "outputs": [
    {
     "data": {
      "text/plain": [
       "date         Monday, August 1, 2022\n",
       "time                        6:00 AM\n",
       "indicator     ISM Manufacturing PMI\n",
       "actual                         52.8\n",
       "previous                       53.0\n",
       "Name: 0, dtype: object"
      ]
     },
     "execution_count": 9,
     "metadata": {},
     "output_type": "execute_result"
    }
   ],
   "source": [
    "t = iterateIndforIndex(0)\n",
    "t.head()"
   ]
  },
  {
   "cell_type": "code",
   "execution_count": 10,
   "metadata": {},
   "outputs": [],
   "source": [
    "def loadCSV(type, fileName):\n",
    "    if type == \"caps\":\n",
    "        sl = \"./lob_caps/\"\n",
    "        loc= sl+ fileName #+ \"-CAPS.csv\"\n",
    "    df = pd.read_csv(loc)\n",
    "    return df"
   ]
  },
  {
   "cell_type": "code",
   "execution_count": 11,
   "metadata": {},
   "outputs": [
    {
     "ename": "SyntaxError",
     "evalue": "invalid syntax (916374301.py, line 4)",
     "output_type": "error",
     "traceback": [
      "\u001b[0;36m  Input \u001b[0;32mIn [11]\u001b[0;36m\u001b[0m\n\u001b[0;31m    return df\u001b[0m\n\u001b[0m    ^\u001b[0m\n\u001b[0;31mSyntaxError\u001b[0m\u001b[0;31m:\u001b[0m invalid syntax\n"
     ]
    }
   ],
   "source": [
    "def loadCSVbyDate(type, day):\n",
    "    # df[(df['col_name'].str.contains('apple')) & (df['col_name'].str.contains('banana'))]\n",
    "    df = ind[ind['date'].str.contains\n",
    "    return df "
   ]
  },
  {
   "cell_type": "code",
   "execution_count": null,
   "metadata": {},
   "outputs": [
    {
     "data": {
      "text/html": [
       "<div>\n",
       "<style scoped>\n",
       "    .dataframe tbody tr th:only-of-type {\n",
       "        vertical-align: middle;\n",
       "    }\n",
       "\n",
       "    .dataframe tbody tr th {\n",
       "        vertical-align: top;\n",
       "    }\n",
       "\n",
       "    .dataframe thead th {\n",
       "        text-align: right;\n",
       "    }\n",
       "</style>\n",
       "<table border=\"1\" class=\"dataframe\">\n",
       "  <thead>\n",
       "    <tr style=\"text-align: right;\">\n",
       "      <th></th>\n",
       "      <th>bc</th>\n",
       "      <th>ac</th>\n",
       "      <th>tbv</th>\n",
       "      <th>tav</th>\n",
       "      <th>time</th>\n",
       "      <th>mp</th>\n",
       "      <th>minBid</th>\n",
       "    </tr>\n",
       "  </thead>\n",
       "  <tbody>\n",
       "    <tr>\n",
       "      <th>0</th>\n",
       "      <td>7879772.25</td>\n",
       "      <td>1.228160e+09</td>\n",
       "      <td>738044.74</td>\n",
       "      <td>252320.76</td>\n",
       "      <td>1660311116579</td>\n",
       "      <td>28.68</td>\n",
       "      <td>28.56</td>\n",
       "    </tr>\n",
       "    <tr>\n",
       "      <th>1</th>\n",
       "      <td>7883935.20</td>\n",
       "      <td>1.228154e+09</td>\n",
       "      <td>738186.76</td>\n",
       "      <td>252098.57</td>\n",
       "      <td>1660311118994</td>\n",
       "      <td>28.67</td>\n",
       "      <td>28.56</td>\n",
       "    </tr>\n",
       "    <tr>\n",
       "      <th>2</th>\n",
       "      <td>7895100.08</td>\n",
       "      <td>1.228153e+09</td>\n",
       "      <td>738583.24</td>\n",
       "      <td>252064.75</td>\n",
       "      <td>1660311121800</td>\n",
       "      <td>28.67</td>\n",
       "      <td>28.56</td>\n",
       "    </tr>\n",
       "    <tr>\n",
       "      <th>3</th>\n",
       "      <td>7946296.53</td>\n",
       "      <td>1.228135e+09</td>\n",
       "      <td>740363.89</td>\n",
       "      <td>251427.95</td>\n",
       "      <td>1660311124914</td>\n",
       "      <td>28.68</td>\n",
       "      <td>28.56</td>\n",
       "    </tr>\n",
       "    <tr>\n",
       "      <th>4</th>\n",
       "      <td>7910928.75</td>\n",
       "      <td>1.228147e+09</td>\n",
       "      <td>739120.06</td>\n",
       "      <td>251864.12</td>\n",
       "      <td>1660311128019</td>\n",
       "      <td>28.71</td>\n",
       "      <td>28.56</td>\n",
       "    </tr>\n",
       "  </tbody>\n",
       "</table>\n",
       "</div>"
      ],
      "text/plain": [
       "           bc            ac        tbv        tav           time     mp  \\\n",
       "0  7879772.25  1.228160e+09  738044.74  252320.76  1660311116579  28.68   \n",
       "1  7883935.20  1.228154e+09  738186.76  252098.57  1660311118994  28.67   \n",
       "2  7895100.08  1.228153e+09  738583.24  252064.75  1660311121800  28.67   \n",
       "3  7946296.53  1.228135e+09  740363.89  251427.95  1660311124914  28.68   \n",
       "4  7910928.75  1.228147e+09  739120.06  251864.12  1660311128019  28.71   \n",
       "\n",
       "   minBid  \n",
       "0   28.56  \n",
       "1   28.56  \n",
       "2   28.56  \n",
       "3   28.56  \n",
       "4   28.56  "
      ]
     },
     "execution_count": 13,
     "metadata": {},
     "output_type": "execute_result"
    }
   ],
   "source": [
    "# !ls lob_caps/\n",
    "f = loadCSV(\"caps\", 'Fri Aug 12 2022 06:31:51 GMT-0700 (Pacific Daylight Time)-CAPS.csv')\n",
    "f.head()"
   ]
  },
  {
   "attachments": {},
   "cell_type": "markdown",
   "metadata": {},
   "source": [
    "retrieve all csv data per row in indicators"
   ]
  },
  {
   "cell_type": "code",
   "execution_count": null,
   "metadata": {},
   "outputs": [],
   "source": [
    "#read into ind df, get time of the release, use date to retrieve a file name, using ls array, find day string in that array, use result to grab a file"
   ]
  }
 ],
 "metadata": {
  "kernelspec": {
   "display_name": "Python 3.9.13 ('base')",
   "language": "python",
   "name": "python3"
  },
  "language_info": {
   "codemirror_mode": {
    "name": "ipython",
    "version": 3
   },
   "file_extension": ".py",
   "mimetype": "text/x-python",
   "name": "python",
   "nbconvert_exporter": "python",
   "pygments_lexer": "ipython3",
   "version": "3.9.13"
  },
  "orig_nbformat": 4,
  "vscode": {
   "interpreter": {
    "hash": "d3e22fbf24de83286095bc3b5210627f6bc981651d6552786864646d5785863e"
   }
  }
 },
 "nbformat": 4,
 "nbformat_minor": 2
}
