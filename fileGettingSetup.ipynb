{
 "cells": [
  {
   "attachments": {},
   "cell_type": "markdown",
   "metadata": {},
   "source": [
    "## code playground: \n",
    "look here for example code"
   ]
  },
  {
   "cell_type": "code",
   "execution_count": 36,
   "metadata": {},
   "outputs": [],
   "source": [
    "import pandas as pd"
   ]
  },
  {
   "cell_type": "code",
   "execution_count": 2,
   "metadata": {},
   "outputs": [],
   "source": [
    "#convert the us indicator date to the filename type, using\n",
    "#https://pynative.com/python-datetime-format-strftime/#:~:text=Below%20are%20the%20character%20codes%20to%20format%20the,of%20the%20weekday.%20Like%2C%20Monday%2C%20Tuesday%20More%20items\n",
    "def convertxy():\n",
    "    from dateutil import parser\n",
    "    dt = parser.parse(\"Dec 21 2020  1:01PM\")\n",
    "    print(dt)"
   ]
  },
  {
   "cell_type": "code",
   "execution_count": 3,
   "metadata": {},
   "outputs": [],
   "source": [
    "#take string, Wednesday, August 17, 2022\n",
    "#strip first three characters from first word to match file name by day\n",
    "#strip first three characters from second word, to arrive at comparable"
   ]
  },
  {
   "cell_type": "code",
   "execution_count": 4,
   "metadata": {},
   "outputs": [
    {
     "name": "stdout",
     "output_type": "stream",
     "text": [
      "2020-12-21 13:01:00\n",
      "None\n"
     ]
    }
   ],
   "source": [
    "print(convertxy())"
   ]
  },
  {
   "attachments": {},
   "cell_type": "markdown",
   "metadata": {},
   "source": [
    "how to access the limit order book files:"
   ]
  },
  {
   "cell_type": "code",
   "execution_count": 5,
   "metadata": {},
   "outputs": [
    {
     "data": {
      "text/plain": [
       "mp           float64\n",
       "timeStamp      int64\n",
       "mean         float64\n",
       "skew         float64\n",
       "dtype: object"
      ]
     },
     "execution_count": 5,
     "metadata": {},
     "output_type": "execute_result"
    }
   ],
   "source": [
    "# Thu Aug 11 2022 05:39:53 GMT-0700 (Pacific Daylight Time)-MEANSHIFT.csv\n",
    "x = pd.read_csv(\"lob_caps/Sat Sep 24 2022 11:10:07 GMT-0700 (Pacific Daylight Time)-MEANSHIFT.csv\")\n",
    "x.dtypes\n"
   ]
  },
  {
   "cell_type": "code",
   "execution_count": 15,
   "metadata": {},
   "outputs": [],
   "source": [
    "def getIndicators():\n",
    "    return pd.read_csv(\"usIndicatorsFall22-fulls.csv\")"
   ]
  },
  {
   "cell_type": "code",
   "execution_count": 77,
   "metadata": {},
   "outputs": [
    {
     "name": "stdout",
     "output_type": "stream",
     "text": [
      "                             date      time                         indicator  \\\n",
      "0          Monday, August 1, 2022   6:00 AM             ISM Manufacturing PMI   \n",
      "1         Tuesday, August 2, 2022   6:00 AM                JOLTS Job Openings   \n",
      "2       Wednesday, August 3, 2022   6:00 AM         ISM Non Manufacturing PMI   \n",
      "3        Thursday, August 4, 2022   4:30 AM                  Balance of Trade   \n",
      "4          Friday, August 5, 2022   4:30 AM                 Non Farm Payrolls   \n",
      "5      Wednesday, August 10, 2022   4:30 AM               Core Inflation Rate   \n",
      "6      Wednesday, August 10, 2022   4:30 AM                Inflation Rate YoY   \n",
      "7       Thursday, August 11, 2022   4:30 AM                           PPI MoM   \n",
      "8         Friday, August 12, 2022   6:00 AM  Michigan Consumer Sentiment Pref   \n",
      "9        Tuesday, August 16, 2022   4:30 AM                 Buildling Permits   \n",
      "10     Wednesday, August 17, 2022   4:30 AM                  retail sales mom   \n",
      "11     Wednesday, August 17, 2022  10:00 AM                      fomc minutes   \n",
      "12     Wednesday, August 24, 2022   4:30 AM          durable goods orders mom   \n",
      "13        Friday, August 26, 2022   4:30 AM               personal income mom   \n",
      "14        Friday, August 26, 2022   4:30 AM             personal spending mom   \n",
      "15        Friday, August 26, 2022   6:00 AM           fed chair powell speech   \n",
      "16       Tuesday, August 30, 2022   6:00 AM                jolts job openings   \n",
      "17    Thursday, September 1, 2022   6:00 AM             ism manufacturing pmi   \n",
      "18      Friday, September 2, 2022   4:30 AM                 non farm payrolls   \n",
      "19     Tuesday, September 6, 2022   6:00 AM         ism non manufacturing pmi   \n",
      "20   Wednesday, September 7, 2022   4:30 AM                  balance of trade   \n",
      "21  Wednesday, September 14, 2022   4:30 AM                           ppi mom   \n",
      "22   Thursday, September 15, 2022   4:30 AM                  retail sales mom   \n",
      "23     Friday, September 16, 2022   6:00 AM  Michigan Consumer Sentiment Pref   \n",
      "24    Tuesday, September 20, 2022   4:30 AM                  building permits   \n",
      "25  Wednesday, September 21, 2022  10:00 AM         fomc economic projections   \n",
      "26  Wednesday, September 21, 2022  10:00 AM              fed press conference   \n",
      "27    Tuesday, September 27, 2022   4:30 AM          durable goods orders mom   \n",
      "28     Friday, September 30, 2022   4:30 AM             personal spending mom   \n",
      "29     Friday, September 30, 2022   4:30 AM               personal income mom   \n",
      "30        Monday, October 3, 2022   6:00 AM             ism manufacturing pmi   \n",
      "31       Tuesday, October 4, 2022   6:00 AM                jolts job openings   \n",
      "32     Wednesday, October 5, 2022   4:30 AM                  balance of trade   \n",
      "33     Wednesday, October 5, 2022   6:00 AM         ism non manufacturing pmi   \n",
      "34        Friday, October 7, 2022   4:30 AM                 non farm payrolls   \n",
      "35    Wednesday, October 12, 2022   4:30 AM                           ppi mom   \n",
      "36    Wednesday, October 12, 2022  10:00 AM                      fomc minutes   \n",
      "37     Thursday, October 13, 2022   4:30 AM                inflation rate yoy   \n",
      "38     Thursday, October 13, 2022   4:30 AM           core inflation rate yoy   \n",
      "39       Friday, October 14, 2022   4:30 AM                  retail sales mom   \n",
      "40       Friday, October 14, 2022   6:00 AM  michigan consumer sentiment pref   \n",
      "41    Wednesday, October 19, 2022   4:30 AM                 buildling permits   \n",
      "42     Thursday, October 27, 2022   4:30 AM          durable goods orders mom   \n",
      "43       Friday, October 28, 2022   4:30 AM               personal income mom   \n",
      "44       Friday, October 28, 2022   4:30 AM             personal spending mom   \n",
      "45      Tuesday, November 1, 2022   6:00 AM             ism manufacturing pmi   \n",
      "46      Tuesday, November 1, 2022   6:00 AM                jolts job openings   \n",
      "47    Wednesday, November 2, 2022     10:30              fed press conference   \n",
      "48     Thursday, November 3, 2022   4:30 AM                  balance of trade   \n",
      "49       Friday, November 4, 2022   4:30 AM                 Non Farm Payrolls   \n",
      "50    Thursday, November 10, 2022   5:30 AM                inflation rate yoy   \n",
      "51    Thursday, November 10, 2022   5:30 AM           core inflation rate yoy   \n",
      "52      Friday, November 11, 2022   7:00 AM  michigan consumer sentiment pref   \n",
      "\n",
      "     actual  previous  consensus  forecast  \n",
      "0    52.800    53.000     52.000    52.200  \n",
      "1    10.698    11.303     11.000    11.000  \n",
      "2    56.700    55.300     53.500    52.500  \n",
      "3   -79.600   -84.900    -80.100   -83.000  \n",
      "4   528.000   398.000    250.000   290.000  \n",
      "5     5.900     5.900      6.100     5.900  \n",
      "6     8.500     9.100      8.700     9.100  \n",
      "7    -0.500     1.000      0.200     0.400  \n",
      "8    55.100    51.500     52.500    51.300  \n",
      "9     1.674     1.696      1.650     1.670  \n",
      "10    0.000     0.800      0.100     0.200  \n",
      "11      NaN       NaN        NaN       NaN  \n",
      "12    0.000     2.200      0.600     0.800  \n",
      "13    0.200     0.700      0.600     0.500  \n",
      "14    0.100     1.000      0.400     0.200  \n",
      "15      NaN       NaN        NaN       NaN  \n",
      "16   11.230    11.040     10.450    10.500  \n",
      "17   52.800    52.800     52.000    52.000  \n",
      "18  315.000   526.000    300.000   310.000  \n",
      "19   56.900    56.700     55.100    55.000  \n",
      "20  -70.700   -80.900    -70.300   -70.000  \n",
      "21   -0.100    -0.400     -0.100     0.100  \n",
      "22    0.300    -0.400      0.000     0.100  \n",
      "23   59.500    58.200     60.000    58.600  \n",
      "24    1.517     1.685      1.610     1.630  \n",
      "25      NaN       NaN        NaN       NaN  \n",
      "26      NaN       NaN        NaN       NaN  \n",
      "27   -0.200    -0.100     -0.400    -0.900  \n",
      "28    0.400    -0.200      0.200     0.200  \n",
      "29    0.300     0.300      0.300     0.200  \n",
      "30   50.900    52.800     52.200    52.900  \n",
      "31   10.053    11.170     10.775    11.100  \n",
      "32  -67.400   -70.500    -67.700   -68.000  \n",
      "33   56.700    56.900     56.000    56.400  \n",
      "34  263.000   315.000    250.000   290.000  \n",
      "35    0.400    -0.200      0.200     0.000  \n",
      "36      NaN       NaN        NaN       NaN  \n",
      "37    8.200     8.300      8.100     8.200  \n",
      "38    6.600     6.300      6.500     6.400  \n",
      "39    0.000     0.400      0.200     0.200  \n",
      "40   59.800    58.600     59.000    58.300  \n",
      "41    1.564     1.542      1.530     1.487  \n",
      "42    0.400     0.200      0.600     0.200  \n",
      "43    0.400     0.400      0.300     0.200  \n",
      "44    0.600     0.600      0.400     0.300  \n",
      "45   50.200    50.900     50.000    50.100  \n",
      "46   10.717    10.280     10.000    10.200  \n",
      "47      NaN       NaN        NaN       NaN  \n",
      "48  -73.300   -65.700    -72.200   -72.000  \n",
      "49  261.000   315.000    200.000   240.000  \n",
      "50    7.700     8.200      8.000     8.100  \n",
      "51    6.300     6.600      6.500     6.700  \n",
      "52   54.700    56.900     59.500    59.300  \n"
     ]
    }
   ],
   "source": [
    "print(getIndicators())"
   ]
  },
  {
   "cell_type": "code",
   "execution_count": null,
   "metadata": {},
   "outputs": [],
   "source": []
  },
  {
   "cell_type": "code",
   "execution_count": 6,
   "metadata": {},
   "outputs": [
    {
     "data": {
      "text/plain": [
       "date    object\n",
       "time    object\n",
       "dtype: object"
      ]
     },
     "execution_count": 6,
     "metadata": {},
     "output_type": "execute_result"
    }
   ],
   "source": [
    "ind = pd.read_csv(\"usIndicatorsFall22-fulls.csv\")\n",
    "t = ['date', 'time']\n",
    "ind[t].dtypes"
   ]
  },
  {
   "cell_type": "code",
   "execution_count": 7,
   "metadata": {},
   "outputs": [
    {
     "data": {
      "text/plain": [
       "array(['ISM Manufacturing PMI', 'JOLTS Job Openings',\n",
       "       'ISM Non Manufacturing PMI', 'Balance of Trade',\n",
       "       'Non Farm Payrolls', 'Core Inflation Rate', 'Inflation Rate YoY',\n",
       "       'PPI MoM', 'Michigan Consumer Sentiment Pref', 'Buildling Permits',\n",
       "       'retail sales mom', 'fomc minutes', 'durable goods orders mom',\n",
       "       'personal income mom', 'personal spending mom',\n",
       "       'fed chair powell speech', 'jolts job openings',\n",
       "       'ism manufacturing pmi', 'non farm payrolls',\n",
       "       'ism non manufacturing pmi', 'balance of trade', 'ppi mom',\n",
       "       'building permits', 'fomc economic projections',\n",
       "       'fed press conference', 'inflation rate yoy',\n",
       "       'core inflation rate yoy', 'michigan consumer sentiment pref',\n",
       "       'buildling permits'], dtype=object)"
      ]
     },
     "execution_count": 7,
     "metadata": {},
     "output_type": "execute_result"
    }
   ],
   "source": [
    "ind['indicator'].unique()"
   ]
  },
  {
   "attachments": {},
   "cell_type": "markdown",
   "metadata": {},
   "source": [
    "gather all data files per announcement"
   ]
  },
  {
   "cell_type": "code",
   "execution_count": null,
   "metadata": {},
   "outputs": [],
   "source": [
    "# def loadCSV(type, fileName):\n",
    "#     if type == \"caps\":\n",
    "#         sl = \"./lob_caps/\"\n",
    "#         loc= sl+ fileName #+ \"-CAPS.csv\"\n",
    "#     df = pd.read_csv(loc)\n",
    "#     return df"
   ]
  },
  {
   "attachments": {},
   "cell_type": "markdown",
   "metadata": {},
   "source": [
    "get limit order book for a date string"
   ]
  },
  {
   "cell_type": "code",
   "execution_count": 91,
   "metadata": {},
   "outputs": [],
   "source": [
    "def getlob(type, csv):\n",
    "    # print(\"GL: csv named \",csv)\n",
    "    csv = \"lob_caps/\" + csv\n",
    "    df = pd.read_csv(csv)\n",
    "    # print(\"\\tfor \", type, df.columns)\n",
    "    return df"
   ]
  },
  {
   "attachments": {},
   "cell_type": "markdown",
   "metadata": {},
   "source": [
    "get files for indicator entry, data frame returned"
   ]
  },
  {
   "cell_type": "code",
   "execution_count": 87,
   "metadata": {},
   "outputs": [],
   "source": [
    "import os\n",
    "\n",
    "def getFileByDateAndType(date, type ):\n",
    "    for root, dirs, files in os.walk(\".\"):\n",
    "        for filename in files:\n",
    "            if date in filename :\n",
    "                # print(\"GFBDT: match \", date, \" : \", filename)\n",
    "                m = \"MEANSHIFT\"\n",
    "                c = \"CAPS\"\n",
    "                mt = \"MATCH\"\n",
    "                if type == m:\n",
    "                    return getlob(m, filename)\n",
    "                if type == c:\n",
    "                    return getlob(c, filename)\n",
    "                if type == mt:\n",
    "                    return getlob(mt, filename)\n",
    "    "
   ]
  },
  {
   "cell_type": "code",
   "execution_count": 29,
   "metadata": {},
   "outputs": [],
   "source": [
    "import os\n",
    "\n",
    "def getFilesByDateOf(d ):\n",
    "    for root, dirs, files in os.walk(\".\"):\n",
    "        for s1 in files:\n",
    "            if d in s1 :\n",
    "                # print(\"match \", d, \" : \", s1)\n",
    "                m = \"MEANSHIFT\"\n",
    "                c = \"CAPS\"\n",
    "                mt = \"MATCH\"\n",
    "                if m in s1:\n",
    "                    getlob(m, s1)\n",
    "                elif c in s1:\n",
    "                    getlob(c, s1)\n",
    "                elif mt in s1:\n",
    "                    getlob(mt, s1)\n",
    "    return 0"
   ]
  },
  {
   "attachments": {},
   "cell_type": "markdown",
   "metadata": {},
   "source": [
    "primary study, study entry point. Iterates indicator file, returns data frame per indicator announcement, based on the type of data you wish. "
   ]
  },
  {
   "cell_type": "code",
   "execution_count": 88,
   "metadata": {},
   "outputs": [],
   "source": [
    "def iterateByType(type):\n",
    "    data = getIndicators() #indicators file read\n",
    "    result = []\n",
    "    for row, val in data.iterrows():\n",
    "        s1 = val['date'].replace(','  , '')\n",
    "        ss = s1.split(\" \")\n",
    "        day  = ss[0][0:3]\n",
    "        mon = ss[1][0:3]\n",
    "        num = ss[2]\n",
    "        if int(num) <10:\n",
    "            num = \"0\"+num\n",
    "        yr = ss[3]\n",
    "        l = day + \" \" + mon + \" \" + num\n",
    "        # print(\"IBT: \",l, \" \", val['indicator'])\n",
    "        result.append(getFileByDateAndType(l, type))\n",
    "    return result"
   ]
  },
  {
   "attachments": {},
   "cell_type": "markdown",
   "metadata": {},
   "source": [
    "separate one data frame into two, based on announcement time"
   ]
  },
  {
   "cell_type": "code",
   "execution_count": 96,
   "metadata": {},
   "outputs": [],
   "source": [
    "def demarcateByAnnounceTime():\n",
    "    #returns two dataframes: 1)data from start of df to time, then 2) data from time to end of df \n",
    "    #main df to get: \n",
    "    mainDF = iterateByType(\"CAPS\")\n",
    "    print(\"CAPS array: \\n\",len(mainDF))\n"
   ]
  },
  {
   "cell_type": "code",
   "execution_count": 97,
   "metadata": {},
   "outputs": [
    {
     "name": "stdout",
     "output_type": "stream",
     "text": [
      "CAPS array: \n",
      " 53\n"
     ]
    }
   ],
   "source": [
    "demarcateByAnnounceTime()"
   ]
  },
  {
   "cell_type": "code",
   "execution_count": null,
   "metadata": {},
   "outputs": [],
   "source": [
    "for row, val in ind.iterrows():\n",
    "    s1 = val['date'].replace(','  , '')\n",
    "    ss = s1.split(\" \")\n",
    "    day  = ss[0][0:3]\n",
    "    mon = ss[1][0:3]\n",
    "    num = ss[2]\n",
    "    if int(num) <10:\n",
    "        num = \"0\"+num\n",
    "    yr = ss[3]\n",
    "    l = day + \" \" + mon + \" \" + num\n",
    "    print(l, \" \", val['indicator'])\n",
    "    res = getFilesByDateOf(l)"
   ]
  },
  {
   "attachments": {},
   "cell_type": "markdown",
   "metadata": {},
   "source": [
    "**Iterate Indicator dataframe by index**\n",
    "\n",
    "provide an index location in the indicator dataframe, and get back the indicator, with information"
   ]
  },
  {
   "cell_type": "code",
   "execution_count": 11,
   "metadata": {},
   "outputs": [],
   "source": [
    "def iterateIndforIndex(index):\n",
    "    frame = ind.loc[index]\n",
    "    \n",
    "    return frame"
   ]
  },
  {
   "cell_type": "code",
   "execution_count": 12,
   "metadata": {},
   "outputs": [
    {
     "data": {
      "text/plain": [
       "date         Monday, August 1, 2022\n",
       "time                        6:00 AM\n",
       "indicator     ISM Manufacturing PMI\n",
       "actual                         52.8\n",
       "previous                       53.0\n",
       "Name: 0, dtype: object"
      ]
     },
     "execution_count": 12,
     "metadata": {},
     "output_type": "execute_result"
    }
   ],
   "source": [
    "t = iterateIndforIndex(0)\n",
    "t.head()"
   ]
  },
  {
   "cell_type": "code",
   "execution_count": null,
   "metadata": {},
   "outputs": [
    {
     "data": {
      "text/html": [
       "<div>\n",
       "<style scoped>\n",
       "    .dataframe tbody tr th:only-of-type {\n",
       "        vertical-align: middle;\n",
       "    }\n",
       "\n",
       "    .dataframe tbody tr th {\n",
       "        vertical-align: top;\n",
       "    }\n",
       "\n",
       "    .dataframe thead th {\n",
       "        text-align: right;\n",
       "    }\n",
       "</style>\n",
       "<table border=\"1\" class=\"dataframe\">\n",
       "  <thead>\n",
       "    <tr style=\"text-align: right;\">\n",
       "      <th></th>\n",
       "      <th>bc</th>\n",
       "      <th>ac</th>\n",
       "      <th>tbv</th>\n",
       "      <th>tav</th>\n",
       "      <th>time</th>\n",
       "      <th>mp</th>\n",
       "      <th>minBid</th>\n",
       "    </tr>\n",
       "  </thead>\n",
       "  <tbody>\n",
       "    <tr>\n",
       "      <th>0</th>\n",
       "      <td>7879772.25</td>\n",
       "      <td>1.228160e+09</td>\n",
       "      <td>738044.74</td>\n",
       "      <td>252320.76</td>\n",
       "      <td>1660311116579</td>\n",
       "      <td>28.68</td>\n",
       "      <td>28.56</td>\n",
       "    </tr>\n",
       "    <tr>\n",
       "      <th>1</th>\n",
       "      <td>7883935.20</td>\n",
       "      <td>1.228154e+09</td>\n",
       "      <td>738186.76</td>\n",
       "      <td>252098.57</td>\n",
       "      <td>1660311118994</td>\n",
       "      <td>28.67</td>\n",
       "      <td>28.56</td>\n",
       "    </tr>\n",
       "    <tr>\n",
       "      <th>2</th>\n",
       "      <td>7895100.08</td>\n",
       "      <td>1.228153e+09</td>\n",
       "      <td>738583.24</td>\n",
       "      <td>252064.75</td>\n",
       "      <td>1660311121800</td>\n",
       "      <td>28.67</td>\n",
       "      <td>28.56</td>\n",
       "    </tr>\n",
       "    <tr>\n",
       "      <th>3</th>\n",
       "      <td>7946296.53</td>\n",
       "      <td>1.228135e+09</td>\n",
       "      <td>740363.89</td>\n",
       "      <td>251427.95</td>\n",
       "      <td>1660311124914</td>\n",
       "      <td>28.68</td>\n",
       "      <td>28.56</td>\n",
       "    </tr>\n",
       "    <tr>\n",
       "      <th>4</th>\n",
       "      <td>7910928.75</td>\n",
       "      <td>1.228147e+09</td>\n",
       "      <td>739120.06</td>\n",
       "      <td>251864.12</td>\n",
       "      <td>1660311128019</td>\n",
       "      <td>28.71</td>\n",
       "      <td>28.56</td>\n",
       "    </tr>\n",
       "  </tbody>\n",
       "</table>\n",
       "</div>"
      ],
      "text/plain": [
       "           bc            ac        tbv        tav           time     mp  \\\n",
       "0  7879772.25  1.228160e+09  738044.74  252320.76  1660311116579  28.68   \n",
       "1  7883935.20  1.228154e+09  738186.76  252098.57  1660311118994  28.67   \n",
       "2  7895100.08  1.228153e+09  738583.24  252064.75  1660311121800  28.67   \n",
       "3  7946296.53  1.228135e+09  740363.89  251427.95  1660311124914  28.68   \n",
       "4  7910928.75  1.228147e+09  739120.06  251864.12  1660311128019  28.71   \n",
       "\n",
       "   minBid  \n",
       "0   28.56  \n",
       "1   28.56  \n",
       "2   28.56  \n",
       "3   28.56  \n",
       "4   28.56  "
      ]
     },
     "execution_count": 13,
     "metadata": {},
     "output_type": "execute_result"
    }
   ],
   "source": [
    "# !ls lob_caps/\n",
    "f = loadCSV(\"caps\", 'Fri Aug 12 2022 06:31:51 GMT-0700 (Pacific Daylight Time)-CAPS.csv')\n",
    "f.head()"
   ]
  },
  {
   "attachments": {},
   "cell_type": "markdown",
   "metadata": {},
   "source": [
    "retrieve all csv data per row in indicators"
   ]
  },
  {
   "cell_type": "code",
   "execution_count": null,
   "metadata": {},
   "outputs": [],
   "source": [
    "#read into ind df, get time of the release, use date to retrieve a file name, using ls array, find day string in that array, use result to grab a file"
   ]
  },
  {
   "attachments": {},
   "cell_type": "markdown",
   "metadata": {},
   "source": [
    "## get time between\n",
    "between start or given start, and limit, as defined by announcement time\n",
    "1. first output, from .loc[0] to time of announcement, then\n",
    "2. from announcement as .loc[0] to end of file\n",
    "\n",
    "to demonstrate the order build, then the impact of the announcement, so we use the announcement as a pillar to the study, running orders up to it, taking that corr, then studying the order profile after, as corr"
   ]
  },
  {
   "cell_type": "code",
   "execution_count": null,
   "metadata": {},
   "outputs": [],
   "source": [
    "# from https://pandas.pydata.org/pandas-docs/stable/reference/api/pandas.DataFrame.between_time.html"
   ]
  }
 ],
 "metadata": {
  "kernelspec": {
   "display_name": "Python 3.9.13 ('base')",
   "language": "python",
   "name": "python3"
  },
  "language_info": {
   "codemirror_mode": {
    "name": "ipython",
    "version": 3
   },
   "file_extension": ".py",
   "mimetype": "text/x-python",
   "name": "python",
   "nbconvert_exporter": "python",
   "pygments_lexer": "ipython3",
   "version": "3.9.13"
  },
  "orig_nbformat": 4,
  "vscode": {
   "interpreter": {
    "hash": "d3e22fbf24de83286095bc3b5210627f6bc981651d6552786864646d5785863e"
   }
  }
 },
 "nbformat": 4,
 "nbformat_minor": 2
}
