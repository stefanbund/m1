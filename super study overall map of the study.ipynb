{
 "cells": [
  {
   "attachments": {},
   "cell_type": "markdown",
   "metadata": {},
   "source": [
    "## EDA 1: General Order Book Dyanmics\n",
    "\n",
    "Use collected, daily LOB data in chart series. Make grids of charts, 5 a row. Study different trends. Devise a means to study certain typical rules, related to:\n",
    "\n",
    "1. accumulation, price\n",
    "2. skew and mp\n",
    "3. mean and mp\n",
    "4. bc and mp\n",
    "5. ac and mp\n",
    "6. superimpose announcement times as a vertical line, to sample how annoucements play into relationships above. Do this prior to announcement study #8. \n",
    "\n",
    "Devise a rule set to observe odds behavior. "
   ]
  },
  {
   "cell_type": "markdown",
   "metadata": {},
   "source": [
    "## Study 8: Economic Indicators and LOB precursor, coiled metaorders\n",
    "\n",
    "DO THIS AFTER #9. Understand how announcements act as a third dimension to LOB (per #8)\n",
    "\n",
    "LOB techniques applied across the fall orders, aug 11 through nov 11, 2022 amidst a crashing US risk environment. \n",
    "\n",
    "Should take all above studies, and collect per economic announcement.\n",
    "\n",
    "notes:\n",
    "1. capture a corr() value between two values for each day of the study\n",
    "2. capture an R2 value, same couplet.\n",
    "3. model, then do logistic regression for model, use ROC/AUC\n",
    "\n",
    "For a set of values beyond two variables, ie bc/ac vs mp, calculate the +/- spread between bc/ac, then utilize versus mp. Hence, calculate an artificial baseline, ie mean difference, then use against the mp. \n",
    "\n",
    "can you group the indicators so that the indicator can possess its own dataset? Correct the capitalization of the indicator, and group by. \n",
    "\n",
    "Graph of indicators. Take the set of them, and describe their own paths. A cool economic series, setting up the context for the study (worsening conditions)\n",
    "\n",
    "The mechanism of Study 8 is to permit the LOB studies to perform against the backdrop of quarterly, unrevised  indicators. \n",
    "\n",
    "A data dictionary comes before any further work can start. \n",
    "\n"
   ]
  }
 ],
 "metadata": {
  "kernelspec": {
   "display_name": "Python 3",
   "language": "python",
   "name": "python3"
  },
  "language_info": {
   "name": "python",
   "version": "3.8.5 (default, Jul 28 2020, 12:59:40) \n[GCC 9.3.0]"
  },
  "orig_nbformat": 4,
  "vscode": {
   "interpreter": {
    "hash": "916dbcbb3f70747c44a77c7bcd40155683ae19c65e1c03b4aa3499c5328201f1"
   }
  }
 },
 "nbformat": 4,
 "nbformat_minor": 2
}
