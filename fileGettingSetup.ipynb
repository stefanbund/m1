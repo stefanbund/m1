{
 "cells": [
  {
   "cell_type": "code",
   "execution_count": 1,
   "metadata": {},
   "outputs": [],
   "source": [
    "import pandas as pd"
   ]
  },
  {
   "cell_type": "code",
   "execution_count": 7,
   "metadata": {},
   "outputs": [
    {
     "data": {
      "text/html": [
       "<div>\n",
       "<style scoped>\n",
       "    .dataframe tbody tr th:only-of-type {\n",
       "        vertical-align: middle;\n",
       "    }\n",
       "\n",
       "    .dataframe tbody tr th {\n",
       "        vertical-align: top;\n",
       "    }\n",
       "\n",
       "    .dataframe thead th {\n",
       "        text-align: right;\n",
       "    }\n",
       "</style>\n",
       "<table border=\"1\" class=\"dataframe\">\n",
       "  <thead>\n",
       "    <tr style=\"text-align: right;\">\n",
       "      <th></th>\n",
       "      <th>date</th>\n",
       "      <th>time</th>\n",
       "      <th>indicator</th>\n",
       "      <th>actual</th>\n",
       "      <th>previous</th>\n",
       "      <th>consensus</th>\n",
       "      <th>forecast</th>\n",
       "    </tr>\n",
       "  </thead>\n",
       "  <tbody>\n",
       "    <tr>\n",
       "      <th>0</th>\n",
       "      <td>8/1/22 0:00</td>\n",
       "      <td>6:00 AM</td>\n",
       "      <td>ISM Manufacturing PMI</td>\n",
       "      <td>52.800</td>\n",
       "      <td>53.000</td>\n",
       "      <td>52.0</td>\n",
       "      <td>52.2</td>\n",
       "    </tr>\n",
       "    <tr>\n",
       "      <th>1</th>\n",
       "      <td>8/2/22 0:00</td>\n",
       "      <td>6:00 AM</td>\n",
       "      <td>JOLTS Job Openings</td>\n",
       "      <td>10.698</td>\n",
       "      <td>11.303</td>\n",
       "      <td>11.0</td>\n",
       "      <td>11.0</td>\n",
       "    </tr>\n",
       "    <tr>\n",
       "      <th>2</th>\n",
       "      <td>8/3/22</td>\n",
       "      <td>6:00 AM</td>\n",
       "      <td>ISM Non Manufacturing PMI</td>\n",
       "      <td>56.700</td>\n",
       "      <td>55.300</td>\n",
       "      <td>53.5</td>\n",
       "      <td>52.5</td>\n",
       "    </tr>\n",
       "    <tr>\n",
       "      <th>3</th>\n",
       "      <td>8/4/22</td>\n",
       "      <td>4:30 AM</td>\n",
       "      <td>Balance of Trade</td>\n",
       "      <td>-79.600</td>\n",
       "      <td>-84.900</td>\n",
       "      <td>-80.1</td>\n",
       "      <td>-83.0</td>\n",
       "    </tr>\n",
       "    <tr>\n",
       "      <th>4</th>\n",
       "      <td>8/5/22</td>\n",
       "      <td>4:30 AM</td>\n",
       "      <td>Non Farm Payrolls</td>\n",
       "      <td>528.000</td>\n",
       "      <td>398.000</td>\n",
       "      <td>250.0</td>\n",
       "      <td>290.0</td>\n",
       "    </tr>\n",
       "  </tbody>\n",
       "</table>\n",
       "</div>"
      ],
      "text/plain": [
       "          date     time                  indicator   actual  previous  \\\n",
       "0  8/1/22 0:00  6:00 AM      ISM Manufacturing PMI   52.800    53.000   \n",
       "1  8/2/22 0:00  6:00 AM         JOLTS Job Openings   10.698    11.303   \n",
       "2       8/3/22  6:00 AM  ISM Non Manufacturing PMI   56.700    55.300   \n",
       "3       8/4/22  4:30 AM           Balance of Trade  -79.600   -84.900   \n",
       "4       8/5/22  4:30 AM          Non Farm Payrolls  528.000   398.000   \n",
       "\n",
       "   consensus  forecast  \n",
       "0       52.0      52.2  \n",
       "1       11.0      11.0  \n",
       "2       53.5      52.5  \n",
       "3      -80.1     -83.0  \n",
       "4      250.0     290.0  "
      ]
     },
     "execution_count": 7,
     "metadata": {},
     "output_type": "execute_result"
    }
   ],
   "source": [
    "ind = pd.read_csv(\"usIndicatorsFall22.csv\")\n",
    "ind.head()"
   ]
  },
  {
   "attachments": {},
   "cell_type": "markdown",
   "metadata": {},
   "source": [
    "**Iterate Indicator dataframe by index**\n",
    "\n",
    "provide an index location in the indicator dataframe, and get back the indicator, with information"
   ]
  },
  {
   "cell_type": "code",
   "execution_count": 4,
   "metadata": {},
   "outputs": [],
   "source": [
    "def iterateIndforIndex(index):\n",
    "    frame = ind.loc[index]\n",
    "    \n",
    "    return frame"
   ]
  },
  {
   "cell_type": "code",
   "execution_count": 8,
   "metadata": {},
   "outputs": [
    {
     "data": {
      "text/plain": [
       "date                   8/1/22 0:00\n",
       "time                       6:00 AM\n",
       "indicator    ISM Manufacturing PMI\n",
       "actual                        52.8\n",
       "previous                      53.0\n",
       "Name: 0, dtype: object"
      ]
     },
     "execution_count": 8,
     "metadata": {},
     "output_type": "execute_result"
    }
   ],
   "source": [
    "t = iterateIndforIndex(0)\n",
    "t.head()"
   ]
  },
  {
   "cell_type": "code",
   "execution_count": 23,
   "metadata": {},
   "outputs": [],
   "source": [
    "def loadCSV(type, fileName):\n",
    "    if type == \"caps/lob\":\n",
    "        sl = \"./lob_caps/\"\n",
    "        loc= sl+ fileName \n",
    "    df = pd.read_csv(loc)\n",
    "    return df"
   ]
  },
  {
   "cell_type": "code",
   "execution_count": 25,
   "metadata": {},
   "outputs": [
    {
     "data": {
      "text/html": [
       "<div>\n",
       "<style scoped>\n",
       "    .dataframe tbody tr th:only-of-type {\n",
       "        vertical-align: middle;\n",
       "    }\n",
       "\n",
       "    .dataframe tbody tr th {\n",
       "        vertical-align: top;\n",
       "    }\n",
       "\n",
       "    .dataframe thead th {\n",
       "        text-align: right;\n",
       "    }\n",
       "</style>\n",
       "<table border=\"1\" class=\"dataframe\">\n",
       "  <thead>\n",
       "    <tr style=\"text-align: right;\">\n",
       "      <th></th>\n",
       "      <th>bc</th>\n",
       "      <th>ac</th>\n",
       "      <th>tbv</th>\n",
       "      <th>tav</th>\n",
       "      <th>time</th>\n",
       "      <th>mp</th>\n",
       "      <th>minBid</th>\n",
       "    </tr>\n",
       "  </thead>\n",
       "  <tbody>\n",
       "    <tr>\n",
       "      <th>0</th>\n",
       "      <td>7879772.25</td>\n",
       "      <td>1.228160e+09</td>\n",
       "      <td>738044.74</td>\n",
       "      <td>252320.76</td>\n",
       "      <td>1660311116579</td>\n",
       "      <td>28.68</td>\n",
       "      <td>28.56</td>\n",
       "    </tr>\n",
       "    <tr>\n",
       "      <th>1</th>\n",
       "      <td>7883935.20</td>\n",
       "      <td>1.228154e+09</td>\n",
       "      <td>738186.76</td>\n",
       "      <td>252098.57</td>\n",
       "      <td>1660311118994</td>\n",
       "      <td>28.67</td>\n",
       "      <td>28.56</td>\n",
       "    </tr>\n",
       "    <tr>\n",
       "      <th>2</th>\n",
       "      <td>7895100.08</td>\n",
       "      <td>1.228153e+09</td>\n",
       "      <td>738583.24</td>\n",
       "      <td>252064.75</td>\n",
       "      <td>1660311121800</td>\n",
       "      <td>28.67</td>\n",
       "      <td>28.56</td>\n",
       "    </tr>\n",
       "    <tr>\n",
       "      <th>3</th>\n",
       "      <td>7946296.53</td>\n",
       "      <td>1.228135e+09</td>\n",
       "      <td>740363.89</td>\n",
       "      <td>251427.95</td>\n",
       "      <td>1660311124914</td>\n",
       "      <td>28.68</td>\n",
       "      <td>28.56</td>\n",
       "    </tr>\n",
       "    <tr>\n",
       "      <th>4</th>\n",
       "      <td>7910928.75</td>\n",
       "      <td>1.228147e+09</td>\n",
       "      <td>739120.06</td>\n",
       "      <td>251864.12</td>\n",
       "      <td>1660311128019</td>\n",
       "      <td>28.71</td>\n",
       "      <td>28.56</td>\n",
       "    </tr>\n",
       "  </tbody>\n",
       "</table>\n",
       "</div>"
      ],
      "text/plain": [
       "           bc            ac        tbv        tav           time     mp  \\\n",
       "0  7879772.25  1.228160e+09  738044.74  252320.76  1660311116579  28.68   \n",
       "1  7883935.20  1.228154e+09  738186.76  252098.57  1660311118994  28.67   \n",
       "2  7895100.08  1.228153e+09  738583.24  252064.75  1660311121800  28.67   \n",
       "3  7946296.53  1.228135e+09  740363.89  251427.95  1660311124914  28.68   \n",
       "4  7910928.75  1.228147e+09  739120.06  251864.12  1660311128019  28.71   \n",
       "\n",
       "   minBid  \n",
       "0   28.56  \n",
       "1   28.56  \n",
       "2   28.56  \n",
       "3   28.56  \n",
       "4   28.56  "
      ]
     },
     "execution_count": 25,
     "metadata": {},
     "output_type": "execute_result"
    }
   ],
   "source": [
    "# !ls lob_caps/\n",
    "f = loadCSV(\"caps/lob\", 'Fri Aug 12 2022 06:31:51 GMT-0700 (Pacific Daylight Time)-CAPS.csv')\n",
    "f.head()"
   ]
  }
 ],
 "metadata": {
  "kernelspec": {
   "display_name": "Python 3.9.13 ('base')",
   "language": "python",
   "name": "python3"
  },
  "language_info": {
   "codemirror_mode": {
    "name": "ipython",
    "version": 3
   },
   "file_extension": ".py",
   "mimetype": "text/x-python",
   "name": "python",
   "nbconvert_exporter": "python",
   "pygments_lexer": "ipython3",
   "version": "3.9.13"
  },
  "orig_nbformat": 4,
  "vscode": {
   "interpreter": {
    "hash": "d3e22fbf24de83286095bc3b5210627f6bc981651d6552786864646d5785863e"
   }
  }
 },
 "nbformat": 4,
 "nbformat_minor": 2
}
